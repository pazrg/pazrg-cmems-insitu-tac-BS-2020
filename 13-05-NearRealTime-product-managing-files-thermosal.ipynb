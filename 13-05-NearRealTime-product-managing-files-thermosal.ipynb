{
 "cells": [
  {
   "cell_type": "markdown",
   "metadata": {},
   "source": [
    "![header](https://i.imgur.com/I4ake6d.jpg)"
   ]
  },
  {
   "cell_type": "markdown",
   "metadata": {},
   "source": [
    "# IN SITU BLACK SEA TRAINING\n",
    "\n",
    "<div style=\"text-align: right\"><i> 13-05-Part-five-out-of-five </i></div>"
   ]
  },
  {
   "cell_type": "markdown",
   "metadata": {},
   "source": [
    "# BS `NRT` product/dataset: managing files (thermosal)"
   ]
  },
  {
   "cell_type": "markdown",
   "metadata": {},
   "source": [
    "<h1>Table of Contents<span class=\"tocSkip\"></h1>\n",
    "<div class=\"toc\">\n",
    "    <ul class=\"toc-item\">\n",
    "        <li><span><a href=\"#Introduction\" data-toc-modified-id=\"Introduction\">Introduction</a></span></li>\n",
    "        <li>\n",
    "            <span><a href=\"#Setup\" data-toc-modified-id=\"Setup\">Setup</a></span>\n",
    "            <ul>\n",
    "                <li><span><a href=\"#Python-packages\" data-toc-modified-id=\"Python-packages\">Python packages</a></span></li>\n",
    "            </ul>\n",
    "        </li>\n",
    "        <li><span><a href=\"#Thermosal-(TS)-data\" data-toc-modified-id=\"Thermosal-(TS)-data\">Thermosal (TS) data</a></span>\n",
    "            <ul>\n",
    "                <li><span><a href=\"#Trajectory-animation\" data-toc-modified-id=\"Trajectory-animation\">Trajectory-animation</a></span></li>\n",
    "                <li><span><a href=\"#Along-track-variable-evolution\" data-toc-modified-id=\"Along-track-variable-evolution\">Along track variable evolution</a></span></li>\n",
    "        <li><span><a href=\"#Overall-variable-evolution\" data-toc-modified-id=\"Overall-variable-evolution\">Overall variable evolution</a></span></li>\n",
    "            </ul>\n",
    "        </li>\n",
    "        <li><span><a href=\"#Wrap-up\" data-toc-modified-id=\"Wrap-up\">Wrap-up</a></span></li>\n",
    "        <li><span><a href=\"#Feedback-survey\" data-toc-modified-id=\"Feedback-survey\">Feedback survey</a></span></li>\n",
    "    </ul>\n",
    "</div>"
   ]
  },
  {
   "cell_type": "markdown",
   "metadata": {},
   "source": [
    "## Introduction\n",
    "\n",
    "According to the [13-01-NearRealTtime-product-collections-overview.ipynb](13-01-NearRealTtime-product-collections-overview.ipynb) one of the less common data source types available are the Thermosal. Please use the notebook [13-02-NearRealTtime-product-subsetting-download](13-02-NearRealTtime-product-subsetting-download.ipynb) to download some files from Thermosal ('TS' data type) and let's check its data. <br> If you wanna skip the downloading part you can use the netCDF files available <a href=\"data\" target=\"_blank\">here</a> instead.    "
   ]
  },
  {
   "cell_type": "markdown",
   "metadata": {},
   "source": [
    "## Setup"
   ]
  },
  {
   "cell_type": "markdown",
   "metadata": {},
   "source": [
    "### Python packages"
   ]
  },
  {
   "cell_type": "markdown",
   "metadata": {},
   "source": [
    "For the notebook to properly run we need to first load the next packages available from the Jupyter Notebook Ecosystem. Please run the `next cell`:"
   ]
  },
  {
   "cell_type": "code",
   "execution_count": 304,
   "metadata": {},
   "outputs": [],
   "source": [
    "import warnings\n",
    "warnings.filterwarnings(\"ignore\")\n",
    "\n",
    "import os\n",
    "import pandas as pd\n",
    "import IPython\n",
    "import datetime\n",
    "import numpy as np\n",
    "import xarray\n",
    "import folium\n",
    "from folium import plugins\n",
    "import branca\n",
    "%matplotlib inline"
   ]
  },
  {
   "cell_type": "markdown",
   "metadata": {},
   "source": [
    "<div class=\"alert alert-block alert-warning\">\n",
    "<b>WARNING</b>\n",
    "    \n",
    "***  \n",
    "If any of them raises any error it means you need to install the module first. For doing so please:\n",
    "1. Open a new cell int he notebook\n",
    "2. Run <i>`!conda install packageName --yes`</i> or <i>`!conda install -c conda-forge packageName --yes`</i> or <i>`!pip install packageName`</i>\n",
    "3. Import again!\n",
    "<br><br>\n",
    "Example: <i>how-to-solve import error for json2html module </i>\n",
    "\n",
    "![region.png](img/errorImporting.gif)"
   ]
  },
  {
   "cell_type": "markdown",
   "metadata": {},
   "source": [
    "## Thermosal (TS) data"
   ]
  },
  {
   "cell_type": "markdown",
   "metadata": {},
   "source": [
    "Thermosalor Thermosalinographs are devices on board of vessels that measure watter intakes (i.e temperature, conductivity etc) as it moves. The resulting data feature is a trajectory-like time serie."
   ]
  },
  {
   "cell_type": "markdown",
   "metadata": {},
   "source": [
    "Let's see the data of one of the available thermosal in the BS.<br>`Run the next cell` to see the thermosal files already available in the /data folder:"
   ]
  },
  {
   "cell_type": "code",
   "execution_count": 305,
   "metadata": {},
   "outputs": [
    {
     "data": {
      "text/html": [
       "\n",
       "        <iframe\n",
       "            width=\"100%\"\n",
       "            height=\"350\"\n",
       "            src=\"http://localhost:8888/tree/data/files/TS\"\n",
       "            frameborder=\"0\"\n",
       "            allowfullscreen\n",
       "        ></iframe>\n",
       "        "
      ],
      "text/plain": [
       "<IPython.lib.display.IFrame at 0x7f369d9d74d0>"
      ]
     },
     "execution_count": 305,
     "metadata": {},
     "output_type": "execute_result"
    }
   ],
   "source": [
    "IPython.display.IFrame('http://localhost:8888/tree/data/files/TS', width='100%', height=350)"
   ]
  },
  {
   "cell_type": "markdown",
   "metadata": {},
   "source": [
    "### Reading the file"
   ]
  },
  {
   "cell_type": "markdown",
   "metadata": {},
   "source": [
    "`Set one` of the above available `file name` and `run the next cells`:"
   ]
  },
  {
   "cell_type": "code",
   "execution_count": 454,
   "metadata": {},
   "outputs": [],
   "source": [
    "file = 'BS_TS_TS_2IYG2_2019.nc'\n",
    "path = os.path.join(os.path.join(os.getcwd(), 'data', 'files','TS'), file)"
   ]
  },
  {
   "cell_type": "code",
   "execution_count": 422,
   "metadata": {},
   "outputs": [
    {
     "data": {
      "text/plain": [
       "<xarray.Dataset>\n",
       "Dimensions:      (DEPTH: 1, LATITUDE: 20, LONGITUDE: 20, POSITION: 20, TIME: 20)\n",
       "Coordinates:\n",
       "  * TIME         (TIME) datetime64[ns] 2019-01-02T12:00:00 ... 2019-03-19T06:00:00\n",
       "  * LATITUDE     (LATITUDE) float32 40.7 40.7 40.7 40.7 ... 42.2 41.6 41.4 40.8\n",
       "  * LONGITUDE    (LONGITUDE) float32 29.6 29.6 29.6 29.6 ... 30.8 29.4 29.1 28.4\n",
       "Dimensions without coordinates: DEPTH, POSITION\n",
       "Data variables:\n",
       "    TIME_QC      (TIME) float32 ...\n",
       "    POSITION_QC  (POSITION) float32 ...\n",
       "    DEPH         (TIME, DEPTH) float32 ...\n",
       "    DEPH_QC      (TIME, DEPTH) float32 ...\n",
       "    TEMP         (TIME, DEPTH) float64 ...\n",
       "    TEMP_QC      (TIME, DEPTH) float32 ...\n",
       "    VGHS         (TIME, DEPTH) float64 ...\n",
       "    VGHS_QC      (TIME, DEPTH) float32 ...\n",
       "    VGTA         (TIME, DEPTH) float64 ...\n",
       "    VGTA_QC      (TIME, DEPTH) float32 ...\n",
       "    DRYT         (TIME, DEPTH) float64 ...\n",
       "    DRYT_QC      (TIME, DEPTH) float32 ...\n",
       "    WSPD         (TIME, DEPTH) float64 ...\n",
       "    WSPD_QC      (TIME, DEPTH) float32 ...\n",
       "Attributes:\n",
       "    data_type:                   OceanSITES trajectory data\n",
       "    format_version:              1.2\n",
       "    platform_code:               2IYG2\n",
       "    date_update:                 2020-04-21T01:58:08Z\n",
       "    institution:                 NOAA / National Geophysical Data Center (NOA...\n",
       "    institution_edmo_code:       1978\n",
       "    site_code:                    \n",
       "    wmo_platform_code:           2IYG2\n",
       "    platform_name:                \n",
       "    source:                      vessel of opportunity\n",
       "    history:                     2020-04-21T01:58:08Z: Creation\n",
       "    data_mode:                   R\n",
       "    quality_control_indicator:   6\n",
       "    quality_index:               A\n",
       "    references:                  http://www.oceansites.org, http://marine.cop...\n",
       "    comment:                      \n",
       "    Conventions:                 CF-1.6 OceanSITES-Manual-1.2 Copernicus-InSi...\n",
       "    netcdf_version:              netCDF-4 classic model\n",
       "    title:                       Black Sea - NRT in situ Observations\n",
       "    summary:                      \n",
       "    naming_authority:            OceanSITES\n",
       "    id:                          BS_TS_TS_2IYG2_2019\n",
       "    cdm_data_type:               Trajectory\n",
       "    family_label:                vessel\n",
       "    family_code:                 TS\n",
       "    area:                        Black Sea\n",
       "    geospatial_lat_min:          40.7\n",
       "    geospatial_lat_max:          40.8\n",
       "    geospatial_lon_min:          29.6\n",
       "    geospatial_lon_max:          29.6\n",
       "    geospatial_vertical_min:     0\n",
       "    geospatial_vertical_max:     5\n",
       "    time_coverage_start:         2019-01-02T12:00:00Z\n",
       "    time_coverage_end:           2019-03-19T06:00:00Z\n",
       "    institution_references:      http://www.io-bas.bg/\n",
       "    contact:                     cmems-service@io-bas.bg\n",
       "    author:                       \n",
       "    data_assembly_center:        IOBAS\n",
       "    pi_name:                      \n",
       "    distribution_statement:      These data follow Copernicus standards; they...\n",
       "    citation:                    These data were collected and made freely av...\n",
       "    update_interval:             daily\n",
       "    qc_manual:                   OceanSITES User\\'s Manual v1.2\n",
       "    last_latitude_observation:   40.8\n",
       "    last_longitude_observation:  28.4\n",
       "    last_date_observation:       2019-03-19T06:00:00Z"
      ]
     },
     "execution_count": 422,
     "metadata": {},
     "output_type": "execute_result"
    }
   ],
   "source": [
    "ds = xarray.open_dataset(path)\n",
    "ds.close()\n",
    "ds"
   ]
  },
  {
   "cell_type": "markdown",
   "metadata": {},
   "source": [
    "The above one is an overview of the content of the file: variables, dimensions, coordinates, global attributes...\n",
    "<br>Let's list now the available variables: `run the next cell`"
   ]
  },
  {
   "cell_type": "code",
   "execution_count": 423,
   "metadata": {},
   "outputs": [
    {
     "name": "stdout",
     "output_type": "stream",
     "text": [
      "TIME:Time\n",
      "TIME_QC:quality flag\n",
      "LATITUDE:Latitude of each location\n",
      "LONGITUDE:Longitude of each location\n",
      "POSITION_QC:quality flag\n",
      "DEPH:Depth\n",
      "DEPH_QC:quality flag\n",
      "TEMP:Sea temperature\n",
      "TEMP_QC:quality flag\n",
      "VGHS:Generic significant wave height (Hs)\n",
      "VGHS_QC:quality flag\n",
      "VGTA:Generic average wave period\n",
      "VGTA_QC:quality flag\n",
      "DRYT:Air temperature in dry bulb\n",
      "DRYT_QC:quality flag\n",
      "WSPD:Horizontal wind speed\n",
      "WSPD_QC:quality flag\n"
     ]
    }
   ],
   "source": [
    "for var in ds.variables:\n",
    "    print(var + ':' + ds[var].attrs['long_name'])"
   ]
  },
  {
   "cell_type": "markdown",
   "metadata": {},
   "source": [
    "Let's see the average sampling rate:"
   ]
  },
  {
   "cell_type": "code",
   "execution_count": 424,
   "metadata": {},
   "outputs": [],
   "source": [
    "start = datetime.datetime.strptime(ds.attrs['time_coverage_start'], '%Y-%m-%dT%H:%M:%SZ')\n",
    "end = datetime.datetime.strptime(ds.attrs['time_coverage_end'], '%Y-%m-%dT%H:%M:%SZ')"
   ]
  },
  {
   "cell_type": "code",
   "execution_count": 425,
   "metadata": {},
   "outputs": [
    {
     "data": {
      "text/plain": [
       "'one measure every 5454.0 minutes'"
      ]
     },
     "execution_count": 425,
     "metadata": {},
     "output_type": "execute_result"
    }
   ],
   "source": [
    "aprox_sampling_rate_in_minutes = ((end-start).total_seconds()/60)/len(ds['TIME'])\n",
    "'one measure every '+str(aprox_sampling_rate_in_minutes)+' minutes'"
   ]
  },
  {
   "cell_type": "markdown",
   "metadata": {},
   "source": [
    "The sampling rate is to bare in mind when plotting as it might be quite time consumming. We will see later an example."
   ]
  },
  {
   "cell_type": "markdown",
   "metadata": {},
   "source": [
    "### Data visualization"
   ]
  },
  {
   "cell_type": "markdown",
   "metadata": {},
   "source": [
    "#### Trajectory animation"
   ]
  },
  {
   "cell_type": "markdown",
   "metadata": {},
   "source": [
    "As stated before, the thermosal is on board of a mobile platform (a vessel).\n",
    "<br>Let's check the overall trajectory by joining the sampling points."
   ]
  },
  {
   "cell_type": "markdown",
   "metadata": {},
   "source": [
    "In In Situ TAC netCDFs all variables are linked to another called the same plus '_QC'. This 'twin' variable contains a quality flag for each value in the paired variable.`run the next cell` to check the flag values convention:"
   ]
  },
  {
   "cell_type": "code",
   "execution_count": 442,
   "metadata": {},
   "outputs": [
    {
     "data": {
      "text/html": [
       "<div>\n",
       "<style scoped>\n",
       "    .dataframe tbody tr th:only-of-type {\n",
       "        vertical-align: middle;\n",
       "    }\n",
       "\n",
       "    .dataframe tbody tr th {\n",
       "        vertical-align: top;\n",
       "    }\n",
       "\n",
       "    .dataframe thead th {\n",
       "        text-align: right;\n",
       "    }\n",
       "</style>\n",
       "<table border=\"1\" class=\"dataframe\">\n",
       "  <thead>\n",
       "    <tr style=\"text-align: right;\">\n",
       "      <th></th>\n",
       "      <th>quality flag</th>\n",
       "    </tr>\n",
       "  </thead>\n",
       "  <tbody>\n",
       "    <tr>\n",
       "      <td>no_qc_performed</td>\n",
       "      <td>0</td>\n",
       "    </tr>\n",
       "    <tr>\n",
       "      <td>good_data</td>\n",
       "      <td>1</td>\n",
       "    </tr>\n",
       "    <tr>\n",
       "      <td>probably_good_data</td>\n",
       "      <td>2</td>\n",
       "    </tr>\n",
       "    <tr>\n",
       "      <td>bad_data_that_are_potentially_correctable</td>\n",
       "      <td>3</td>\n",
       "    </tr>\n",
       "    <tr>\n",
       "      <td>bad_data</td>\n",
       "      <td>4</td>\n",
       "    </tr>\n",
       "    <tr>\n",
       "      <td>value_changed</td>\n",
       "      <td>5</td>\n",
       "    </tr>\n",
       "    <tr>\n",
       "      <td>not_used</td>\n",
       "      <td>6</td>\n",
       "    </tr>\n",
       "    <tr>\n",
       "      <td>nominal_value</td>\n",
       "      <td>7</td>\n",
       "    </tr>\n",
       "    <tr>\n",
       "      <td>interpolated_value</td>\n",
       "      <td>8</td>\n",
       "    </tr>\n",
       "    <tr>\n",
       "      <td>missing_value</td>\n",
       "      <td>9</td>\n",
       "    </tr>\n",
       "  </tbody>\n",
       "</table>\n",
       "</div>"
      ],
      "text/plain": [
       "                                           quality flag\n",
       "no_qc_performed                                       0\n",
       "good_data                                             1\n",
       "probably_good_data                                    2\n",
       "bad_data_that_are_potentially_correctable             3\n",
       "bad_data                                              4\n",
       "value_changed                                         5\n",
       "not_used                                              6\n",
       "nominal_value                                         7\n",
       "interpolated_value                                    8\n",
       "missing_value                                         9"
      ]
     },
     "execution_count": 442,
     "metadata": {},
     "output_type": "execute_result"
    }
   ],
   "source": [
    "pd.DataFrame(data=ds['TEMP_QC'].attrs['flag_values'],\n",
    "             index=ds['TEMP_QC'].attrs['flag_meanings'].split(' '), columns=['quality flag'])"
   ]
  },
  {
   "cell_type": "markdown",
   "metadata": {},
   "source": [
    "Users are recommended to use only the data flagged as 1, they so called 'good data'. Let's then check the available flags for the coordinates (time and position) to see if we need to get rid of not-good values: `run the next cells`"
   ]
  },
  {
   "cell_type": "code",
   "execution_count": 443,
   "metadata": {},
   "outputs": [
    {
     "data": {
      "text/plain": [
       "[<matplotlib.lines.Line2D at 0x7f361d7310d0>]"
      ]
     },
     "execution_count": 443,
     "metadata": {},
     "output_type": "execute_result"
    },
    {
     "data": {
      "image/png": "[encoded data removed]",
      "text/plain": [
       "<Figure size 720x360 with 1 Axes>"
      ]
     },
     "metadata": {
      "needs_background": "light"
     },
     "output_type": "display_data"
    }
   ],
   "source": [
    "ds['POSITION_QC'].plot(aspect=2, size=5)"
   ]
  },
  {
   "cell_type": "markdown",
   "metadata": {},
   "source": [
    "From above, we see that there are no QC flags values different from 1, meaning we are ready to go!(`run the next cell`):"
   ]
  },
  {
   "cell_type": "code",
   "execution_count": 444,
   "metadata": {},
   "outputs": [],
   "source": [
    "lats = ds['LATITUDE'].values.tolist()\n",
    "lons = ds['LONGITUDE'].values.tolist()\n",
    "times = ds['TIME'].astype(str).values.tolist()"
   ]
  },
  {
   "cell_type": "markdown",
   "metadata": {},
   "source": [
    "Let's create now a geojson feature representing the vessel:"
   ]
  },
  {
   "cell_type": "code",
   "execution_count": 445,
   "metadata": {},
   "outputs": [],
   "source": [
    "vessel = {\n",
    "    'type': 'Feature',\n",
    "    'geometry': {\n",
    "        'type': 'LineString',\n",
    "        'coordinates': []\n",
    "    },\n",
    "    'properties': {\n",
    "        'times': [],\n",
    "    }\n",
    "}"
   ]
  },
  {
   "cell_type": "markdown",
   "metadata": {},
   "source": [
    "Let's populate it:"
   ]
  },
  {
   "cell_type": "code",
   "execution_count": 446,
   "metadata": {},
   "outputs": [],
   "source": [
    "for time, lat, lon in zip(times, lats, lons):\n",
    "    base = [lat,lon]\n",
    "    if(any(x is None for x in base)):\n",
    "        continue\n",
    "    if(any(np.isnan(x) for x in base)):\n",
    "        continue\n",
    "    vessel['properties']['times'].append(time[:19])\n",
    "    vessel['geometry']['coordinates'].append([lon, lat])"
   ]
  },
  {
   "cell_type": "code",
   "execution_count": 447,
   "metadata": {},
   "outputs": [
    {
     "data": {
      "text/html": [
       "<div style=\"width:100%;\"><div style=\"position:relative;width:100%;height:0;padding-bottom:60%;\"><iframe src=\"data:text/html;charset=utf-8;base64,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\" style=\"position:absolute;width:100%;height:100%;left:0;top:0;border:none !important;\" allowfullscreen webkitallowfullscreen mozallowfullscreen></iframe></div></div>"
      ],
      "text/plain": [
       "<folium.folium.Map at 0x7f361dd66e90>"
      ]
     },
     "execution_count": 447,
     "metadata": {},
     "output_type": "execute_result"
    }
   ],
   "source": [
    "mean_lat, mean_lon = np.nanmean(lats), np.nanmean(lons)\n",
    "m = folium.Map(location=[mean_lat, mean_lon], zoom_start=6)\n",
    "marker = plugins.TimestampedGeoJson({\n",
    "    'type': 'FeatureCollection',\n",
    "    'features': [vessel],\n",
    "}, add_last_point=True, loop=False).add_to(m)\n",
    "m"
   ]
  },
  {
   "cell_type": "markdown",
   "metadata": {},
   "source": [
    "<div class=\"alert alert-block alert-warning\">\n",
    "<b>WARNING</b>\n",
    "    \n",
    "***  \n",
    "If you do not see any map when running the next cell please change your navigator (try chrome!)."
   ]
  },
  {
   "cell_type": "markdown",
   "metadata": {},
   "source": [
    "### Along track variable evolution"
   ]
  },
  {
   "cell_type": "markdown",
   "metadata": {},
   "source": [
    "Let's focus on one of the variables to visualize its data!: `set one and run the next cell`"
   ]
  },
  {
   "cell_type": "code",
   "execution_count": 450,
   "metadata": {},
   "outputs": [
    {
     "data": {
      "text/plain": [
       "<xarray.DataArray 'TEMP' (TIME: 20, DEPTH: 1)>\n",
       "array([[8.299],\n",
       "       [9.799],\n",
       "       [8.099],\n",
       "       [8.399],\n",
       "       [8.199],\n",
       "       [8.599],\n",
       "       [9.199],\n",
       "       [8.799],\n",
       "       [8.399],\n",
       "       [7.199],\n",
       "       [6.999],\n",
       "       [6.899],\n",
       "       [7.099],\n",
       "       [7.699],\n",
       "       [7.199],\n",
       "       [7.299],\n",
       "       [7.399],\n",
       "       [7.799],\n",
       "       [8.299],\n",
       "       [8.599]])\n",
       "Coordinates:\n",
       "  * TIME     (TIME) datetime64[ns] 2019-01-02T12:00:00 ... 2019-03-19T06:00:00\n",
       "Dimensions without coordinates: DEPTH\n",
       "Attributes:\n",
       "    long_name:      Sea temperature\n",
       "    standard_name:  sea_water_temperature\n",
       "    units:          degrees_C"
      ]
     },
     "execution_count": 450,
     "metadata": {},
     "output_type": "execute_result"
    }
   ],
   "source": [
    "param = 'TEMP'\n",
    "ds[param]"
   ]
  },
  {
   "cell_type": "code",
   "execution_count": 433,
   "metadata": {},
   "outputs": [
    {
     "data": {
      "text/plain": [
       "[<matplotlib.lines.Line2D at 0x7f369f0e1850>]"
      ]
     },
     "execution_count": 433,
     "metadata": {},
     "output_type": "execute_result"
    },
    {
     "data": {
      "image/png": "[encoded data removed]",
      "text/plain": [
       "<Figure size 432x288 with 1 Axes>"
      ]
     },
     "metadata": {
      "needs_background": "light"
     },
     "output_type": "display_data"
    }
   ],
   "source": [
    "ds[param+'_QC'][:,0].plot()"
   ]
  },
  {
   "cell_type": "markdown",
   "metadata": {},
   "source": [
    "Let's get only the good data for the only depth (0):"
   ]
  },
  {
   "cell_type": "code",
   "execution_count": 437,
   "metadata": {},
   "outputs": [],
   "source": [
    "var = ds[param][:,0].values.tolist()"
   ]
  },
  {
   "cell_type": "markdown",
   "metadata": {},
   "source": [
    "Let's set a colormap:"
   ]
  },
  {
   "cell_type": "code",
   "execution_count": 438,
   "metadata": {},
   "outputs": [
    {
     "data": {
      "text/html": [
       "<svg height=\"50\" width=\"500\"><line x1=\"0\" y1=\"0\" x2=\"0\" y2=\"20\" style=\"stroke:#008000;stroke-width:3;\" /><line x1=\"1\" y1=\"0\" x2=\"1\" y2=\"20\" style=\"stroke:#018100;stroke-width:3;\" /><line x1=\"2\" y1=\"0\" x2=\"2\" y2=\"20\" style=\"stroke:#028100;stroke-width:3;\" /><line x1=\"3\" y1=\"0\" x2=\"3\" y2=\"20\" style=\"stroke:#038200;stroke-width:3;\" /><line x1=\"4\" y1=\"0\" x2=\"4\" y2=\"20\" style=\"stroke:#048200;stroke-width:3;\" /><line x1=\"5\" y1=\"0\" x2=\"5\" y2=\"20\" style=\"stroke:#058300;stroke-width:3;\" /><line x1=\"6\" y1=\"0\" x2=\"6\" y2=\"20\" style=\"stroke:#068300;stroke-width:3;\" /><line x1=\"7\" y1=\"0\" x2=\"7\" y2=\"20\" style=\"stroke:#078400;stroke-width:3;\" /><line x1=\"8\" y1=\"0\" x2=\"8\" y2=\"20\" style=\"stroke:#088400;stroke-width:3;\" /><line x1=\"9\" y1=\"0\" x2=\"9\" y2=\"20\" style=\"stroke:#098500;stroke-width:3;\" /><line x1=\"10\" y1=\"0\" x2=\"10\" y2=\"20\" style=\"stroke:#0a8500;stroke-width:3;\" /><line x1=\"11\" y1=\"0\" x2=\"11\" y2=\"20\" style=\"stroke:#0b8600;stroke-width:3;\" /><line x1=\"12\" y1=\"0\" x2=\"12\" y2=\"20\" style=\"stroke:#0c8600;stroke-width:3;\" /><line x1=\"13\" y1=\"0\" x2=\"13\" y2=\"20\" style=\"stroke:#0d8700;stroke-width:3;\" /><line x1=\"14\" y1=\"0\" x2=\"14\" y2=\"20\" style=\"stroke:#0e8700;stroke-width:3;\" /><line x1=\"15\" y1=\"0\" x2=\"15\" y2=\"20\" style=\"stroke:#0f8800;stroke-width:3;\" /><line x1=\"16\" y1=\"0\" x2=\"16\" y2=\"20\" style=\"stroke:#108800;stroke-width:3;\" /><line x1=\"17\" y1=\"0\" x2=\"17\" y2=\"20\" style=\"stroke:#118900;stroke-width:3;\" /><line x1=\"18\" y1=\"0\" x2=\"18\" y2=\"20\" style=\"stroke:#128900;stroke-width:3;\" /><line x1=\"19\" y1=\"0\" x2=\"19\" y2=\"20\" style=\"stroke:#138a00;stroke-width:3;\" /><line x1=\"20\" y1=\"0\" x2=\"20\" y2=\"20\" style=\"stroke:#148a00;stroke-width:3;\" /><line x1=\"21\" y1=\"0\" x2=\"21\" y2=\"20\" style=\"stroke:#158b00;stroke-width:3;\" /><line x1=\"22\" y1=\"0\" x2=\"22\" y2=\"20\" style=\"stroke:#168b00;stroke-width:3;\" /><line x1=\"23\" y1=\"0\" x2=\"23\" y2=\"20\" style=\"stroke:#178c00;stroke-width:3;\" /><line x1=\"24\" y1=\"0\" x2=\"24\" y2=\"20\" style=\"stroke:#188c00;stroke-width:3;\" /><line x1=\"25\" y1=\"0\" x2=\"25\" y2=\"20\" style=\"stroke:#198d00;stroke-width:3;\" /><line x1=\"26\" y1=\"0\" x2=\"26\" y2=\"20\" style=\"stroke:#1a8d00;stroke-width:3;\" /><line x1=\"27\" y1=\"0\" x2=\"27\" y2=\"20\" style=\"stroke:#1b8e00;stroke-width:3;\" /><line x1=\"28\" y1=\"0\" x2=\"28\" y2=\"20\" style=\"stroke:#1c8e00;stroke-width:3;\" /><line x1=\"29\" y1=\"0\" x2=\"29\" y2=\"20\" style=\"stroke:#1d8f00;stroke-width:3;\" /><line x1=\"30\" y1=\"0\" x2=\"30\" y2=\"20\" style=\"stroke:#1e8f00;stroke-width:3;\" /><line x1=\"31\" y1=\"0\" x2=\"31\" y2=\"20\" style=\"stroke:#1f9000;stroke-width:3;\" /><line x1=\"32\" y1=\"0\" x2=\"32\" y2=\"20\" style=\"stroke:#209000;stroke-width:3;\" /><line x1=\"33\" y1=\"0\" x2=\"33\" y2=\"20\" style=\"stroke:#219100;stroke-width:3;\" /><line x1=\"34\" y1=\"0\" x2=\"34\" y2=\"20\" style=\"stroke:#229100;stroke-width:3;\" /><line x1=\"35\" y1=\"0\" x2=\"35\" y2=\"20\" style=\"stroke:#239200;stroke-width:3;\" /><line x1=\"36\" y1=\"0\" x2=\"36\" y2=\"20\" style=\"stroke:#249200;stroke-width:3;\" /><line x1=\"37\" y1=\"0\" x2=\"37\" y2=\"20\" style=\"stroke:#259300;stroke-width:3;\" /><line x1=\"38\" y1=\"0\" x2=\"38\" y2=\"20\" style=\"stroke:#269300;stroke-width:3;\" /><line x1=\"39\" y1=\"0\" x2=\"39\" y2=\"20\" style=\"stroke:#289400;stroke-width:3;\" /><line x1=\"40\" y1=\"0\" x2=\"40\" y2=\"20\" style=\"stroke:#299400;stroke-width:3;\" /><line x1=\"41\" y1=\"0\" x2=\"41\" y2=\"20\" style=\"stroke:#2a9500;stroke-width:3;\" /><line x1=\"42\" y1=\"0\" x2=\"42\" y2=\"20\" style=\"stroke:#2b9500;stroke-width:3;\" /><line x1=\"43\" y1=\"0\" x2=\"43\" y2=\"20\" style=\"stroke:#2c9600;stroke-width:3;\" /><line x1=\"44\" y1=\"0\" x2=\"44\" y2=\"20\" style=\"stroke:#2d9600;stroke-width:3;\" /><line x1=\"45\" y1=\"0\" x2=\"45\" y2=\"20\" style=\"stroke:#2e9700;stroke-width:3;\" /><line x1=\"46\" y1=\"0\" x2=\"46\" y2=\"20\" style=\"stroke:#2f9800;stroke-width:3;\" /><line x1=\"47\" y1=\"0\" x2=\"47\" y2=\"20\" style=\"stroke:#309800;stroke-width:3;\" /><line x1=\"48\" y1=\"0\" x2=\"48\" y2=\"20\" style=\"stroke:#319900;stroke-width:3;\" /><line x1=\"49\" y1=\"0\" x2=\"49\" y2=\"20\" style=\"stroke:#329900;stroke-width:3;\" /><line x1=\"50\" y1=\"0\" x2=\"50\" y2=\"20\" style=\"stroke:#339a00;stroke-width:3;\" /><line x1=\"51\" y1=\"0\" x2=\"51\" y2=\"20\" style=\"stroke:#349a00;stroke-width:3;\" /><line x1=\"52\" y1=\"0\" x2=\"52\" y2=\"20\" style=\"stroke:#359b00;stroke-width:3;\" /><line x1=\"53\" y1=\"0\" x2=\"53\" y2=\"20\" style=\"stroke:#369b00;stroke-width:3;\" /><line x1=\"54\" y1=\"0\" x2=\"54\" y2=\"20\" style=\"stroke:#379c00;stroke-width:3;\" /><line x1=\"55\" y1=\"0\" x2=\"55\" y2=\"20\" style=\"stroke:#389c00;stroke-width:3;\" /><line x1=\"56\" y1=\"0\" x2=\"56\" y2=\"20\" style=\"stroke:#399d00;stroke-width:3;\" /><line x1=\"57\" y1=\"0\" x2=\"57\" y2=\"20\" style=\"stroke:#3a9d00;stroke-width:3;\" /><line x1=\"58\" y1=\"0\" x2=\"58\" y2=\"20\" style=\"stroke:#3b9e00;stroke-width:3;\" /><line x1=\"59\" y1=\"0\" x2=\"59\" y2=\"20\" style=\"stroke:#3c9e00;stroke-width:3;\" /><line x1=\"60\" y1=\"0\" x2=\"60\" y2=\"20\" style=\"stroke:#3d9f00;stroke-width:3;\" /><line x1=\"61\" y1=\"0\" x2=\"61\" y2=\"20\" style=\"stroke:#3e9f00;stroke-width:3;\" /><line x1=\"62\" y1=\"0\" x2=\"62\" y2=\"20\" style=\"stroke:#3fa000;stroke-width:3;\" /><line x1=\"63\" y1=\"0\" x2=\"63\" y2=\"20\" style=\"stroke:#40a000;stroke-width:3;\" /><line x1=\"64\" y1=\"0\" x2=\"64\" y2=\"20\" style=\"stroke:#41a100;stroke-width:3;\" /><line x1=\"65\" y1=\"0\" x2=\"65\" y2=\"20\" style=\"stroke:#42a100;stroke-width:3;\" /><line x1=\"66\" y1=\"0\" x2=\"66\" y2=\"20\" style=\"stroke:#43a200;stroke-width:3;\" /><line x1=\"67\" y1=\"0\" x2=\"67\" y2=\"20\" style=\"stroke:#44a200;stroke-width:3;\" /><line x1=\"68\" y1=\"0\" x2=\"68\" y2=\"20\" style=\"stroke:#45a300;stroke-width:3;\" /><line x1=\"69\" y1=\"0\" x2=\"69\" y2=\"20\" style=\"stroke:#46a300;stroke-width:3;\" /><line x1=\"70\" y1=\"0\" x2=\"70\" y2=\"20\" style=\"stroke:#47a400;stroke-width:3;\" /><line x1=\"71\" y1=\"0\" x2=\"71\" y2=\"20\" style=\"stroke:#48a400;stroke-width:3;\" /><line x1=\"72\" y1=\"0\" x2=\"72\" y2=\"20\" style=\"stroke:#49a500;stroke-width:3;\" /><line x1=\"73\" y1=\"0\" x2=\"73\" y2=\"20\" style=\"stroke:#4aa500;stroke-width:3;\" /><line x1=\"74\" y1=\"0\" x2=\"74\" y2=\"20\" style=\"stroke:#4ba600;stroke-width:3;\" /><line x1=\"75\" y1=\"0\" x2=\"75\" y2=\"20\" style=\"stroke:#4ca600;stroke-width:3;\" /><line x1=\"76\" y1=\"0\" x2=\"76\" y2=\"20\" style=\"stroke:#4da700;stroke-width:3;\" /><line x1=\"77\" y1=\"0\" x2=\"77\" y2=\"20\" style=\"stroke:#4fa700;stroke-width:3;\" /><line x1=\"78\" y1=\"0\" x2=\"78\" y2=\"20\" style=\"stroke:#50a800;stroke-width:3;\" /><line x1=\"79\" y1=\"0\" x2=\"79\" y2=\"20\" style=\"stroke:#51a800;stroke-width:3;\" /><line x1=\"80\" y1=\"0\" x2=\"80\" y2=\"20\" style=\"stroke:#52a900;stroke-width:3;\" /><line x1=\"81\" y1=\"0\" x2=\"81\" y2=\"20\" style=\"stroke:#53a900;stroke-width:3;\" /><line x1=\"82\" y1=\"0\" x2=\"82\" y2=\"20\" style=\"stroke:#54aa00;stroke-width:3;\" /><line x1=\"83\" y1=\"0\" x2=\"83\" y2=\"20\" style=\"stroke:#55aa00;stroke-width:3;\" /><line x1=\"84\" y1=\"0\" x2=\"84\" y2=\"20\" style=\"stroke:#56ab00;stroke-width:3;\" /><line x1=\"85\" y1=\"0\" x2=\"85\" y2=\"20\" style=\"stroke:#57ab00;stroke-width:3;\" /><line x1=\"86\" y1=\"0\" x2=\"86\" y2=\"20\" style=\"stroke:#58ac00;stroke-width:3;\" /><line x1=\"87\" y1=\"0\" x2=\"87\" y2=\"20\" style=\"stroke:#59ac00;stroke-width:3;\" /><line x1=\"88\" y1=\"0\" x2=\"88\" y2=\"20\" style=\"stroke:#5aad00;stroke-width:3;\" /><line x1=\"89\" y1=\"0\" x2=\"89\" y2=\"20\" style=\"stroke:#5bad00;stroke-width:3;\" /><line x1=\"90\" y1=\"0\" x2=\"90\" y2=\"20\" style=\"stroke:#5cae00;stroke-width:3;\" /><line x1=\"91\" y1=\"0\" x2=\"91\" y2=\"20\" style=\"stroke:#5daf00;stroke-width:3;\" /><line x1=\"92\" y1=\"0\" x2=\"92\" y2=\"20\" style=\"stroke:#5eaf00;stroke-width:3;\" /><line x1=\"93\" y1=\"0\" x2=\"93\" y2=\"20\" style=\"stroke:#5fb000;stroke-width:3;\" /><line x1=\"94\" y1=\"0\" x2=\"94\" y2=\"20\" style=\"stroke:#60b000;stroke-width:3;\" /><line x1=\"95\" y1=\"0\" x2=\"95\" y2=\"20\" style=\"stroke:#61b100;stroke-width:3;\" /><line x1=\"96\" y1=\"0\" x2=\"96\" y2=\"20\" style=\"stroke:#62b100;stroke-width:3;\" /><line x1=\"97\" y1=\"0\" x2=\"97\" y2=\"20\" style=\"stroke:#63b200;stroke-width:3;\" /><line x1=\"98\" y1=\"0\" x2=\"98\" y2=\"20\" style=\"stroke:#64b200;stroke-width:3;\" /><line x1=\"99\" y1=\"0\" x2=\"99\" y2=\"20\" style=\"stroke:#65b300;stroke-width:3;\" /><line x1=\"100\" y1=\"0\" x2=\"100\" y2=\"20\" style=\"stroke:#66b300;stroke-width:3;\" /><line x1=\"101\" y1=\"0\" x2=\"101\" y2=\"20\" style=\"stroke:#67b400;stroke-width:3;\" /><line x1=\"102\" y1=\"0\" x2=\"102\" y2=\"20\" style=\"stroke:#68b400;stroke-width:3;\" /><line x1=\"103\" y1=\"0\" x2=\"103\" y2=\"20\" style=\"stroke:#69b500;stroke-width:3;\" /><line x1=\"104\" y1=\"0\" x2=\"104\" y2=\"20\" style=\"stroke:#6ab500;stroke-width:3;\" /><line x1=\"105\" y1=\"0\" x2=\"105\" y2=\"20\" style=\"stroke:#6bb600;stroke-width:3;\" /><line x1=\"106\" y1=\"0\" x2=\"106\" y2=\"20\" style=\"stroke:#6cb600;stroke-width:3;\" /><line x1=\"107\" y1=\"0\" x2=\"107\" y2=\"20\" style=\"stroke:#6db700;stroke-width:3;\" /><line x1=\"108\" y1=\"0\" x2=\"108\" y2=\"20\" style=\"stroke:#6eb700;stroke-width:3;\" /><line x1=\"109\" y1=\"0\" x2=\"109\" y2=\"20\" style=\"stroke:#6fb800;stroke-width:3;\" /><line x1=\"110\" y1=\"0\" x2=\"110\" y2=\"20\" style=\"stroke:#70b800;stroke-width:3;\" /><line x1=\"111\" y1=\"0\" x2=\"111\" y2=\"20\" style=\"stroke:#71b900;stroke-width:3;\" /><line x1=\"112\" y1=\"0\" x2=\"112\" y2=\"20\" style=\"stroke:#72b900;stroke-width:3;\" /><line x1=\"113\" y1=\"0\" x2=\"113\" y2=\"20\" style=\"stroke:#73ba00;stroke-width:3;\" /><line x1=\"114\" y1=\"0\" x2=\"114\" y2=\"20\" style=\"stroke:#74ba00;stroke-width:3;\" /><line x1=\"115\" y1=\"0\" x2=\"115\" y2=\"20\" style=\"stroke:#75bb00;stroke-width:3;\" /><line x1=\"116\" y1=\"0\" x2=\"116\" y2=\"20\" style=\"stroke:#77bb00;stroke-width:3;\" /><line x1=\"117\" y1=\"0\" x2=\"117\" y2=\"20\" style=\"stroke:#78bc00;stroke-width:3;\" /><line x1=\"118\" y1=\"0\" x2=\"118\" y2=\"20\" style=\"stroke:#79bc00;stroke-width:3;\" /><line x1=\"119\" y1=\"0\" x2=\"119\" y2=\"20\" style=\"stroke:#7abd00;stroke-width:3;\" /><line x1=\"120\" y1=\"0\" x2=\"120\" y2=\"20\" style=\"stroke:#7bbd00;stroke-width:3;\" /><line x1=\"121\" y1=\"0\" x2=\"121\" y2=\"20\" style=\"stroke:#7cbe00;stroke-width:3;\" /><line x1=\"122\" y1=\"0\" x2=\"122\" y2=\"20\" style=\"stroke:#7dbe00;stroke-width:3;\" /><line x1=\"123\" y1=\"0\" x2=\"123\" y2=\"20\" style=\"stroke:#7ebf00;stroke-width:3;\" /><line x1=\"124\" y1=\"0\" x2=\"124\" y2=\"20\" style=\"stroke:#7fbf00;stroke-width:3;\" /><line x1=\"125\" y1=\"0\" x2=\"125\" y2=\"20\" style=\"stroke:#80c000;stroke-width:3;\" /><line x1=\"126\" y1=\"0\" x2=\"126\" y2=\"20\" style=\"stroke:#81c000;stroke-width:3;\" /><line x1=\"127\" y1=\"0\" x2=\"127\" y2=\"20\" style=\"stroke:#82c100;stroke-width:3;\" /><line x1=\"128\" y1=\"0\" x2=\"128\" y2=\"20\" style=\"stroke:#83c100;stroke-width:3;\" /><line x1=\"129\" y1=\"0\" x2=\"129\" y2=\"20\" style=\"stroke:#84c200;stroke-width:3;\" /><line x1=\"130\" y1=\"0\" x2=\"130\" y2=\"20\" style=\"stroke:#85c200;stroke-width:3;\" /><line x1=\"131\" y1=\"0\" x2=\"131\" y2=\"20\" style=\"stroke:#86c300;stroke-width:3;\" /><line x1=\"132\" y1=\"0\" x2=\"132\" y2=\"20\" style=\"stroke:#87c300;stroke-width:3;\" /><line x1=\"133\" y1=\"0\" x2=\"133\" y2=\"20\" style=\"stroke:#88c400;stroke-width:3;\" /><line x1=\"134\" y1=\"0\" x2=\"134\" y2=\"20\" style=\"stroke:#89c400;stroke-width:3;\" /><line x1=\"135\" y1=\"0\" x2=\"135\" y2=\"20\" style=\"stroke:#8ac500;stroke-width:3;\" /><line x1=\"136\" y1=\"0\" x2=\"136\" y2=\"20\" style=\"stroke:#8bc500;stroke-width:3;\" /><line x1=\"137\" y1=\"0\" x2=\"137\" y2=\"20\" style=\"stroke:#8cc600;stroke-width:3;\" /><line x1=\"138\" y1=\"0\" x2=\"138\" y2=\"20\" style=\"stroke:#8dc700;stroke-width:3;\" /><line x1=\"139\" y1=\"0\" x2=\"139\" y2=\"20\" style=\"stroke:#8ec700;stroke-width:3;\" /><line x1=\"140\" y1=\"0\" x2=\"140\" y2=\"20\" style=\"stroke:#8fc800;stroke-width:3;\" /><line x1=\"141\" y1=\"0\" x2=\"141\" y2=\"20\" style=\"stroke:#90c800;stroke-width:3;\" /><line x1=\"142\" y1=\"0\" x2=\"142\" y2=\"20\" style=\"stroke:#91c900;stroke-width:3;\" /><line x1=\"143\" y1=\"0\" x2=\"143\" y2=\"20\" style=\"stroke:#92c900;stroke-width:3;\" /><line x1=\"144\" y1=\"0\" x2=\"144\" y2=\"20\" style=\"stroke:#93ca00;stroke-width:3;\" /><line x1=\"145\" y1=\"0\" x2=\"145\" y2=\"20\" style=\"stroke:#94ca00;stroke-width:3;\" /><line x1=\"146\" y1=\"0\" x2=\"146\" y2=\"20\" style=\"stroke:#95cb00;stroke-width:3;\" /><line x1=\"147\" y1=\"0\" x2=\"147\" y2=\"20\" style=\"stroke:#96cb00;stroke-width:3;\" /><line x1=\"148\" y1=\"0\" x2=\"148\" y2=\"20\" style=\"stroke:#97cc00;stroke-width:3;\" /><line x1=\"149\" y1=\"0\" x2=\"149\" y2=\"20\" style=\"stroke:#98cc00;stroke-width:3;\" /><line x1=\"150\" y1=\"0\" x2=\"150\" y2=\"20\" style=\"stroke:#99cd00;stroke-width:3;\" /><line x1=\"151\" y1=\"0\" x2=\"151\" y2=\"20\" style=\"stroke:#9acd00;stroke-width:3;\" /><line x1=\"152\" y1=\"0\" x2=\"152\" y2=\"20\" style=\"stroke:#9bce00;stroke-width:3;\" /><line x1=\"153\" y1=\"0\" x2=\"153\" y2=\"20\" style=\"stroke:#9cce00;stroke-width:3;\" /><line x1=\"154\" y1=\"0\" x2=\"154\" y2=\"20\" style=\"stroke:#9ecf00;stroke-width:3;\" /><line x1=\"155\" y1=\"0\" x2=\"155\" y2=\"20\" style=\"stroke:#9fcf00;stroke-width:3;\" /><line x1=\"156\" y1=\"0\" x2=\"156\" y2=\"20\" style=\"stroke:#a0d000;stroke-width:3;\" /><line x1=\"157\" y1=\"0\" x2=\"157\" y2=\"20\" style=\"stroke:#a1d000;stroke-width:3;\" /><line x1=\"158\" y1=\"0\" x2=\"158\" y2=\"20\" style=\"stroke:#a2d100;stroke-width:3;\" /><line x1=\"159\" y1=\"0\" x2=\"159\" y2=\"20\" style=\"stroke:#a3d100;stroke-width:3;\" /><line x1=\"160\" y1=\"0\" x2=\"160\" y2=\"20\" style=\"stroke:#a4d200;stroke-width:3;\" /><line x1=\"161\" y1=\"0\" x2=\"161\" y2=\"20\" style=\"stroke:#a5d200;stroke-width:3;\" /><line x1=\"162\" y1=\"0\" x2=\"162\" y2=\"20\" style=\"stroke:#a6d300;stroke-width:3;\" /><line x1=\"163\" y1=\"0\" x2=\"163\" y2=\"20\" style=\"stroke:#a7d300;stroke-width:3;\" /><line x1=\"164\" y1=\"0\" x2=\"164\" y2=\"20\" style=\"stroke:#a8d400;stroke-width:3;\" /><line x1=\"165\" y1=\"0\" x2=\"165\" y2=\"20\" style=\"stroke:#a9d400;stroke-width:3;\" /><line x1=\"166\" y1=\"0\" x2=\"166\" y2=\"20\" style=\"stroke:#aad500;stroke-width:3;\" /><line x1=\"167\" y1=\"0\" x2=\"167\" y2=\"20\" style=\"stroke:#abd500;stroke-width:3;\" /><line x1=\"168\" y1=\"0\" x2=\"168\" y2=\"20\" style=\"stroke:#acd600;stroke-width:3;\" /><line x1=\"169\" y1=\"0\" x2=\"169\" y2=\"20\" style=\"stroke:#add600;stroke-width:3;\" /><line x1=\"170\" y1=\"0\" x2=\"170\" y2=\"20\" style=\"stroke:#aed700;stroke-width:3;\" /><line x1=\"171\" y1=\"0\" x2=\"171\" y2=\"20\" style=\"stroke:#afd700;stroke-width:3;\" /><line x1=\"172\" y1=\"0\" x2=\"172\" y2=\"20\" style=\"stroke:#b0d800;stroke-width:3;\" /><line x1=\"173\" y1=\"0\" x2=\"173\" y2=\"20\" style=\"stroke:#b1d800;stroke-width:3;\" /><line x1=\"174\" y1=\"0\" x2=\"174\" y2=\"20\" style=\"stroke:#b2d900;stroke-width:3;\" /><line x1=\"175\" y1=\"0\" x2=\"175\" y2=\"20\" style=\"stroke:#b3d900;stroke-width:3;\" /><line x1=\"176\" y1=\"0\" x2=\"176\" y2=\"20\" style=\"stroke:#b4da00;stroke-width:3;\" /><line x1=\"177\" y1=\"0\" x2=\"177\" y2=\"20\" style=\"stroke:#b5da00;stroke-width:3;\" /><line x1=\"178\" y1=\"0\" x2=\"178\" y2=\"20\" style=\"stroke:#b6db00;stroke-width:3;\" /><line x1=\"179\" y1=\"0\" x2=\"179\" y2=\"20\" style=\"stroke:#b7db00;stroke-width:3;\" /><line x1=\"180\" y1=\"0\" x2=\"180\" y2=\"20\" style=\"stroke:#b8dc00;stroke-width:3;\" /><line x1=\"181\" y1=\"0\" x2=\"181\" y2=\"20\" style=\"stroke:#b9dc00;stroke-width:3;\" /><line x1=\"182\" y1=\"0\" x2=\"182\" y2=\"20\" style=\"stroke:#badd00;stroke-width:3;\" /><line x1=\"183\" y1=\"0\" x2=\"183\" y2=\"20\" style=\"stroke:#bbde00;stroke-width:3;\" /><line x1=\"184\" y1=\"0\" x2=\"184\" y2=\"20\" style=\"stroke:#bcde00;stroke-width:3;\" /><line x1=\"185\" y1=\"0\" x2=\"185\" y2=\"20\" style=\"stroke:#bddf00;stroke-width:3;\" /><line x1=\"186\" y1=\"0\" x2=\"186\" y2=\"20\" style=\"stroke:#bedf00;stroke-width:3;\" /><line x1=\"187\" y1=\"0\" x2=\"187\" y2=\"20\" style=\"stroke:#bfe000;stroke-width:3;\" /><line x1=\"188\" y1=\"0\" x2=\"188\" y2=\"20\" style=\"stroke:#c0e000;stroke-width:3;\" /><line x1=\"189\" y1=\"0\" x2=\"189\" y2=\"20\" style=\"stroke:#c1e100;stroke-width:3;\" /><line x1=\"190\" y1=\"0\" x2=\"190\" y2=\"20\" style=\"stroke:#c2e100;stroke-width:3;\" /><line x1=\"191\" y1=\"0\" x2=\"191\" y2=\"20\" style=\"stroke:#c3e200;stroke-width:3;\" /><line x1=\"192\" y1=\"0\" x2=\"192\" y2=\"20\" style=\"stroke:#c5e200;stroke-width:3;\" /><line x1=\"193\" y1=\"0\" x2=\"193\" y2=\"20\" style=\"stroke:#c6e300;stroke-width:3;\" /><line x1=\"194\" y1=\"0\" x2=\"194\" y2=\"20\" style=\"stroke:#c7e300;stroke-width:3;\" /><line x1=\"195\" y1=\"0\" x2=\"195\" y2=\"20\" style=\"stroke:#c8e400;stroke-width:3;\" /><line x1=\"196\" y1=\"0\" x2=\"196\" y2=\"20\" style=\"stroke:#c9e400;stroke-width:3;\" /><line x1=\"197\" y1=\"0\" x2=\"197\" y2=\"20\" style=\"stroke:#cae500;stroke-width:3;\" /><line x1=\"198\" y1=\"0\" x2=\"198\" y2=\"20\" style=\"stroke:#cbe500;stroke-width:3;\" /><line x1=\"199\" y1=\"0\" x2=\"199\" y2=\"20\" style=\"stroke:#cce600;stroke-width:3;\" /><line x1=\"200\" y1=\"0\" x2=\"200\" y2=\"20\" style=\"stroke:#cde600;stroke-width:3;\" /><line x1=\"201\" y1=\"0\" x2=\"201\" y2=\"20\" style=\"stroke:#cee700;stroke-width:3;\" /><line x1=\"202\" y1=\"0\" x2=\"202\" y2=\"20\" style=\"stroke:#cfe700;stroke-width:3;\" /><line x1=\"203\" y1=\"0\" x2=\"203\" y2=\"20\" style=\"stroke:#d0e800;stroke-width:3;\" /><line x1=\"204\" y1=\"0\" x2=\"204\" y2=\"20\" style=\"stroke:#d1e800;stroke-width:3;\" /><line x1=\"205\" y1=\"0\" x2=\"205\" y2=\"20\" style=\"stroke:#d2e900;stroke-width:3;\" /><line x1=\"206\" y1=\"0\" x2=\"206\" y2=\"20\" style=\"stroke:#d3e900;stroke-width:3;\" /><line x1=\"207\" y1=\"0\" x2=\"207\" y2=\"20\" style=\"stroke:#d4ea00;stroke-width:3;\" /><line x1=\"208\" y1=\"0\" x2=\"208\" y2=\"20\" style=\"stroke:#d5ea00;stroke-width:3;\" /><line x1=\"209\" y1=\"0\" x2=\"209\" y2=\"20\" style=\"stroke:#d6eb00;stroke-width:3;\" /><line x1=\"210\" y1=\"0\" x2=\"210\" y2=\"20\" style=\"stroke:#d7eb00;stroke-width:3;\" /><line x1=\"211\" y1=\"0\" x2=\"211\" y2=\"20\" style=\"stroke:#d8ec00;stroke-width:3;\" /><line x1=\"212\" y1=\"0\" x2=\"212\" y2=\"20\" style=\"stroke:#d9ec00;stroke-width:3;\" /><line x1=\"213\" y1=\"0\" x2=\"213\" y2=\"20\" style=\"stroke:#daed00;stroke-width:3;\" /><line x1=\"214\" y1=\"0\" x2=\"214\" y2=\"20\" style=\"stroke:#dbed00;stroke-width:3;\" /><line x1=\"215\" y1=\"0\" x2=\"215\" y2=\"20\" style=\"stroke:#dcee00;stroke-width:3;\" /><line x1=\"216\" y1=\"0\" x2=\"216\" y2=\"20\" style=\"stroke:#ddee00;stroke-width:3;\" /><line x1=\"217\" y1=\"0\" x2=\"217\" y2=\"20\" style=\"stroke:#deef00;stroke-width:3;\" /><line x1=\"218\" y1=\"0\" x2=\"218\" y2=\"20\" style=\"stroke:#dfef00;stroke-width:3;\" /><line x1=\"219\" y1=\"0\" x2=\"219\" y2=\"20\" style=\"stroke:#e0f000;stroke-width:3;\" /><line x1=\"220\" y1=\"0\" x2=\"220\" y2=\"20\" style=\"stroke:#e1f000;stroke-width:3;\" /><line x1=\"221\" y1=\"0\" x2=\"221\" y2=\"20\" style=\"stroke:#e2f100;stroke-width:3;\" /><line x1=\"222\" y1=\"0\" x2=\"222\" y2=\"20\" style=\"stroke:#e3f100;stroke-width:3;\" /><line x1=\"223\" y1=\"0\" x2=\"223\" y2=\"20\" style=\"stroke:#e4f200;stroke-width:3;\" /><line x1=\"224\" y1=\"0\" x2=\"224\" y2=\"20\" style=\"stroke:#e5f200;stroke-width:3;\" /><line x1=\"225\" y1=\"0\" x2=\"225\" y2=\"20\" style=\"stroke:#e6f300;stroke-width:3;\" /><line x1=\"226\" y1=\"0\" x2=\"226\" y2=\"20\" style=\"stroke:#e7f300;stroke-width:3;\" /><line x1=\"227\" y1=\"0\" x2=\"227\" y2=\"20\" style=\"stroke:#e8f400;stroke-width:3;\" /><line x1=\"228\" y1=\"0\" x2=\"228\" y2=\"20\" style=\"stroke:#e9f500;stroke-width:3;\" /><line x1=\"229\" y1=\"0\" x2=\"229\" y2=\"20\" style=\"stroke:#eaf500;stroke-width:3;\" /><line x1=\"230\" y1=\"0\" x2=\"230\" y2=\"20\" style=\"stroke:#ebf600;stroke-width:3;\" /><line x1=\"231\" y1=\"0\" x2=\"231\" y2=\"20\" style=\"stroke:#edf600;stroke-width:3;\" /><line x1=\"232\" y1=\"0\" x2=\"232\" y2=\"20\" style=\"stroke:#eef700;stroke-width:3;\" /><line x1=\"233\" y1=\"0\" x2=\"233\" y2=\"20\" style=\"stroke:#eff700;stroke-width:3;\" /><line x1=\"234\" y1=\"0\" x2=\"234\" y2=\"20\" style=\"stroke:#f0f800;stroke-width:3;\" /><line x1=\"235\" y1=\"0\" x2=\"235\" y2=\"20\" style=\"stroke:#f1f800;stroke-width:3;\" /><line x1=\"236\" y1=\"0\" x2=\"236\" y2=\"20\" style=\"stroke:#f2f900;stroke-width:3;\" /><line x1=\"237\" y1=\"0\" x2=\"237\" y2=\"20\" style=\"stroke:#f3f900;stroke-width:3;\" /><line x1=\"238\" y1=\"0\" x2=\"238\" y2=\"20\" style=\"stroke:#f4fa00;stroke-width:3;\" /><line x1=\"239\" y1=\"0\" x2=\"239\" y2=\"20\" style=\"stroke:#f5fa00;stroke-width:3;\" /><line x1=\"240\" y1=\"0\" x2=\"240\" y2=\"20\" style=\"stroke:#f6fb00;stroke-width:3;\" /><line x1=\"241\" y1=\"0\" x2=\"241\" y2=\"20\" style=\"stroke:#f7fb00;stroke-width:3;\" /><line x1=\"242\" y1=\"0\" x2=\"242\" y2=\"20\" style=\"stroke:#f8fc00;stroke-width:3;\" /><line x1=\"243\" y1=\"0\" x2=\"243\" y2=\"20\" style=\"stroke:#f9fc00;stroke-width:3;\" /><line x1=\"244\" y1=\"0\" x2=\"244\" y2=\"20\" style=\"stroke:#fafd00;stroke-width:3;\" /><line x1=\"245\" y1=\"0\" x2=\"245\" y2=\"20\" style=\"stroke:#fbfd00;stroke-width:3;\" /><line x1=\"246\" y1=\"0\" x2=\"246\" y2=\"20\" style=\"stroke:#fcfe00;stroke-width:3;\" /><line x1=\"247\" y1=\"0\" x2=\"247\" y2=\"20\" style=\"stroke:#fdfe00;stroke-width:3;\" /><line x1=\"248\" y1=\"0\" x2=\"248\" y2=\"20\" style=\"stroke:#feff00;stroke-width:3;\" /><line x1=\"249\" y1=\"0\" x2=\"249\" y2=\"20\" style=\"stroke:#ffff00;stroke-width:3;\" /><line x1=\"250\" y1=\"0\" x2=\"250\" y2=\"20\" style=\"stroke:#ffff00;stroke-width:3;\" /><line x1=\"251\" y1=\"0\" x2=\"251\" y2=\"20\" style=\"stroke:#fffe00;stroke-width:3;\" /><line x1=\"252\" y1=\"0\" x2=\"252\" y2=\"20\" style=\"stroke:#fffd00;stroke-width:3;\" /><line x1=\"253\" y1=\"0\" x2=\"253\" y2=\"20\" style=\"stroke:#fffc00;stroke-width:3;\" /><line x1=\"254\" y1=\"0\" x2=\"254\" y2=\"20\" style=\"stroke:#fffb00;stroke-width:3;\" /><line x1=\"255\" y1=\"0\" x2=\"255\" y2=\"20\" style=\"stroke:#fffa00;stroke-width:3;\" /><line x1=\"256\" y1=\"0\" x2=\"256\" y2=\"20\" style=\"stroke:#fff900;stroke-width:3;\" /><line x1=\"257\" y1=\"0\" x2=\"257\" y2=\"20\" style=\"stroke:#fff800;stroke-width:3;\" /><line x1=\"258\" y1=\"0\" x2=\"258\" y2=\"20\" style=\"stroke:#fff700;stroke-width:3;\" /><line x1=\"259\" y1=\"0\" x2=\"259\" y2=\"20\" style=\"stroke:#fff600;stroke-width:3;\" /><line x1=\"260\" y1=\"0\" x2=\"260\" y2=\"20\" style=\"stroke:#fff500;stroke-width:3;\" /><line x1=\"261\" y1=\"0\" x2=\"261\" y2=\"20\" style=\"stroke:#fff400;stroke-width:3;\" /><line x1=\"262\" y1=\"0\" x2=\"262\" y2=\"20\" style=\"stroke:#fff300;stroke-width:3;\" /><line x1=\"263\" y1=\"0\" x2=\"263\" y2=\"20\" style=\"stroke:#fff200;stroke-width:3;\" /><line x1=\"264\" y1=\"0\" x2=\"264\" y2=\"20\" style=\"stroke:#fff100;stroke-width:3;\" /><line x1=\"265\" y1=\"0\" x2=\"265\" y2=\"20\" style=\"stroke:#fff000;stroke-width:3;\" /><line x1=\"266\" y1=\"0\" x2=\"266\" y2=\"20\" style=\"stroke:#ffef00;stroke-width:3;\" /><line x1=\"267\" y1=\"0\" x2=\"267\" y2=\"20\" style=\"stroke:#ffee00;stroke-width:3;\" /><line x1=\"268\" y1=\"0\" x2=\"268\" y2=\"20\" style=\"stroke:#ffed00;stroke-width:3;\" /><line x1=\"269\" y1=\"0\" x2=\"269\" y2=\"20\" style=\"stroke:#ffeb00;stroke-width:3;\" /><line x1=\"270\" y1=\"0\" x2=\"270\" y2=\"20\" style=\"stroke:#ffea00;stroke-width:3;\" /><line x1=\"271\" y1=\"0\" x2=\"271\" y2=\"20\" style=\"stroke:#ffe900;stroke-width:3;\" /><line x1=\"272\" y1=\"0\" x2=\"272\" y2=\"20\" style=\"stroke:#ffe800;stroke-width:3;\" /><line x1=\"273\" y1=\"0\" x2=\"273\" y2=\"20\" style=\"stroke:#ffe700;stroke-width:3;\" /><line x1=\"274\" y1=\"0\" x2=\"274\" y2=\"20\" style=\"stroke:#ffe600;stroke-width:3;\" /><line x1=\"275\" y1=\"0\" x2=\"275\" y2=\"20\" style=\"stroke:#ffe500;stroke-width:3;\" /><line x1=\"276\" y1=\"0\" x2=\"276\" y2=\"20\" style=\"stroke:#ffe400;stroke-width:3;\" /><line x1=\"277\" y1=\"0\" x2=\"277\" y2=\"20\" style=\"stroke:#ffe300;stroke-width:3;\" /><line x1=\"278\" y1=\"0\" x2=\"278\" y2=\"20\" style=\"stroke:#ffe200;stroke-width:3;\" /><line x1=\"279\" y1=\"0\" x2=\"279\" y2=\"20\" style=\"stroke:#ffe100;stroke-width:3;\" /><line x1=\"280\" y1=\"0\" x2=\"280\" y2=\"20\" style=\"stroke:#ffe000;stroke-width:3;\" /><line x1=\"281\" y1=\"0\" x2=\"281\" y2=\"20\" style=\"stroke:#ffdf00;stroke-width:3;\" /><line x1=\"282\" y1=\"0\" x2=\"282\" y2=\"20\" style=\"stroke:#ffde00;stroke-width:3;\" /><line x1=\"283\" y1=\"0\" x2=\"283\" y2=\"20\" style=\"stroke:#ffdd00;stroke-width:3;\" /><line x1=\"284\" y1=\"0\" x2=\"284\" y2=\"20\" style=\"stroke:#ffdc00;stroke-width:3;\" /><line x1=\"285\" y1=\"0\" x2=\"285\" y2=\"20\" style=\"stroke:#ffdb00;stroke-width:3;\" /><line x1=\"286\" y1=\"0\" x2=\"286\" y2=\"20\" style=\"stroke:#ffda00;stroke-width:3;\" /><line x1=\"287\" y1=\"0\" x2=\"287\" y2=\"20\" style=\"stroke:#ffd900;stroke-width:3;\" /><line x1=\"288\" y1=\"0\" x2=\"288\" y2=\"20\" style=\"stroke:#ffd800;stroke-width:3;\" /><line x1=\"289\" y1=\"0\" x2=\"289\" y2=\"20\" style=\"stroke:#ffd700;stroke-width:3;\" /><line x1=\"290\" y1=\"0\" x2=\"290\" y2=\"20\" style=\"stroke:#ffd600;stroke-width:3;\" /><line x1=\"291\" y1=\"0\" x2=\"291\" y2=\"20\" style=\"stroke:#ffd500;stroke-width:3;\" /><line x1=\"292\" y1=\"0\" x2=\"292\" y2=\"20\" style=\"stroke:#ffd400;stroke-width:3;\" /><line x1=\"293\" y1=\"0\" x2=\"293\" y2=\"20\" style=\"stroke:#ffd300;stroke-width:3;\" /><line x1=\"294\" y1=\"0\" x2=\"294\" y2=\"20\" style=\"stroke:#ffd200;stroke-width:3;\" /><line x1=\"295\" y1=\"0\" x2=\"295\" y2=\"20\" style=\"stroke:#ffd100;stroke-width:3;\" /><line x1=\"296\" y1=\"0\" x2=\"296\" y2=\"20\" style=\"stroke:#ffd000;stroke-width:3;\" /><line x1=\"297\" y1=\"0\" x2=\"297\" y2=\"20\" style=\"stroke:#ffcf00;stroke-width:3;\" /><line x1=\"298\" y1=\"0\" x2=\"298\" y2=\"20\" style=\"stroke:#ffce00;stroke-width:3;\" /><line x1=\"299\" y1=\"0\" x2=\"299\" y2=\"20\" style=\"stroke:#ffcd00;stroke-width:3;\" /><line x1=\"300\" y1=\"0\" x2=\"300\" y2=\"20\" style=\"stroke:#ffcc00;stroke-width:3;\" /><line x1=\"301\" y1=\"0\" x2=\"301\" y2=\"20\" style=\"stroke:#ffcb00;stroke-width:3;\" /><line x1=\"302\" y1=\"0\" x2=\"302\" y2=\"20\" style=\"stroke:#ffca00;stroke-width:3;\" /><line x1=\"303\" y1=\"0\" x2=\"303\" y2=\"20\" style=\"stroke:#ffc900;stroke-width:3;\" /><line x1=\"304\" y1=\"0\" x2=\"304\" y2=\"20\" style=\"stroke:#ffc800;stroke-width:3;\" /><line x1=\"305\" y1=\"0\" x2=\"305\" y2=\"20\" style=\"stroke:#ffc700;stroke-width:3;\" /><line x1=\"306\" y1=\"0\" x2=\"306\" y2=\"20\" style=\"stroke:#ffc600;stroke-width:3;\" /><line x1=\"307\" y1=\"0\" x2=\"307\" y2=\"20\" style=\"stroke:#ffc500;stroke-width:3;\" /><line x1=\"308\" y1=\"0\" x2=\"308\" y2=\"20\" style=\"stroke:#ffc300;stroke-width:3;\" /><line x1=\"309\" y1=\"0\" x2=\"309\" y2=\"20\" style=\"stroke:#ffc200;stroke-width:3;\" /><line x1=\"310\" y1=\"0\" x2=\"310\" y2=\"20\" style=\"stroke:#ffc100;stroke-width:3;\" /><line x1=\"311\" y1=\"0\" x2=\"311\" y2=\"20\" style=\"stroke:#ffc000;stroke-width:3;\" /><line x1=\"312\" y1=\"0\" x2=\"312\" y2=\"20\" style=\"stroke:#ffbf00;stroke-width:3;\" /><line x1=\"313\" y1=\"0\" x2=\"313\" y2=\"20\" style=\"stroke:#ffbe00;stroke-width:3;\" /><line x1=\"314\" y1=\"0\" x2=\"314\" y2=\"20\" style=\"stroke:#ffbd00;stroke-width:3;\" /><line x1=\"315\" y1=\"0\" x2=\"315\" y2=\"20\" style=\"stroke:#ffbc00;stroke-width:3;\" /><line x1=\"316\" y1=\"0\" x2=\"316\" y2=\"20\" style=\"stroke:#ffbb00;stroke-width:3;\" /><line x1=\"317\" y1=\"0\" x2=\"317\" y2=\"20\" style=\"stroke:#ffba00;stroke-width:3;\" /><line x1=\"318\" y1=\"0\" x2=\"318\" y2=\"20\" style=\"stroke:#ffb900;stroke-width:3;\" /><line x1=\"319\" y1=\"0\" x2=\"319\" y2=\"20\" style=\"stroke:#ffb800;stroke-width:3;\" /><line x1=\"320\" y1=\"0\" x2=\"320\" y2=\"20\" style=\"stroke:#ffb700;stroke-width:3;\" /><line x1=\"321\" y1=\"0\" x2=\"321\" y2=\"20\" style=\"stroke:#ffb600;stroke-width:3;\" /><line x1=\"322\" y1=\"0\" x2=\"322\" y2=\"20\" style=\"stroke:#ffb500;stroke-width:3;\" /><line x1=\"323\" y1=\"0\" x2=\"323\" y2=\"20\" style=\"stroke:#ffb400;stroke-width:3;\" /><line x1=\"324\" y1=\"0\" x2=\"324\" y2=\"20\" style=\"stroke:#ffb300;stroke-width:3;\" /><line x1=\"325\" y1=\"0\" x2=\"325\" y2=\"20\" style=\"stroke:#ffb200;stroke-width:3;\" /><line x1=\"326\" y1=\"0\" x2=\"326\" y2=\"20\" style=\"stroke:#ffb100;stroke-width:3;\" /><line x1=\"327\" y1=\"0\" x2=\"327\" y2=\"20\" style=\"stroke:#ffb000;stroke-width:3;\" /><line x1=\"328\" y1=\"0\" x2=\"328\" y2=\"20\" style=\"stroke:#ffaf00;stroke-width:3;\" /><line x1=\"329\" y1=\"0\" x2=\"329\" y2=\"20\" style=\"stroke:#ffae00;stroke-width:3;\" /><line x1=\"330\" y1=\"0\" x2=\"330\" y2=\"20\" style=\"stroke:#ffad00;stroke-width:3;\" /><line x1=\"331\" y1=\"0\" x2=\"331\" y2=\"20\" style=\"stroke:#ffac00;stroke-width:3;\" /><line x1=\"332\" y1=\"0\" x2=\"332\" y2=\"20\" style=\"stroke:#ffab00;stroke-width:3;\" /><line x1=\"333\" y1=\"0\" x2=\"333\" y2=\"20\" style=\"stroke:#ffaa00;stroke-width:3;\" /><line x1=\"334\" y1=\"0\" x2=\"334\" y2=\"20\" style=\"stroke:#ffa900;stroke-width:3;\" /><line x1=\"335\" y1=\"0\" x2=\"335\" y2=\"20\" style=\"stroke:#ffa800;stroke-width:3;\" /><line x1=\"336\" y1=\"0\" x2=\"336\" y2=\"20\" style=\"stroke:#ffa700;stroke-width:3;\" /><line x1=\"337\" y1=\"0\" x2=\"337\" y2=\"20\" style=\"stroke:#ffa600;stroke-width:3;\" /><line x1=\"338\" y1=\"0\" x2=\"338\" y2=\"20\" style=\"stroke:#ffa500;stroke-width:3;\" /><line x1=\"339\" y1=\"0\" x2=\"339\" y2=\"20\" style=\"stroke:#ffa400;stroke-width:3;\" /><line x1=\"340\" y1=\"0\" x2=\"340\" y2=\"20\" style=\"stroke:#ffa300;stroke-width:3;\" /><line x1=\"341\" y1=\"0\" x2=\"341\" y2=\"20\" style=\"stroke:#ffa200;stroke-width:3;\" /><line x1=\"342\" y1=\"0\" x2=\"342\" y2=\"20\" style=\"stroke:#ffa100;stroke-width:3;\" /><line x1=\"343\" y1=\"0\" x2=\"343\" y2=\"20\" style=\"stroke:#ffa000;stroke-width:3;\" /><line x1=\"344\" y1=\"0\" x2=\"344\" y2=\"20\" style=\"stroke:#ff9f00;stroke-width:3;\" /><line x1=\"345\" y1=\"0\" x2=\"345\" y2=\"20\" style=\"stroke:#ff9e00;stroke-width:3;\" /><line x1=\"346\" y1=\"0\" x2=\"346\" y2=\"20\" style=\"stroke:#ff9c00;stroke-width:3;\" /><line x1=\"347\" y1=\"0\" x2=\"347\" y2=\"20\" style=\"stroke:#ff9b00;stroke-width:3;\" /><line x1=\"348\" y1=\"0\" x2=\"348\" y2=\"20\" style=\"stroke:#ff9a00;stroke-width:3;\" /><line x1=\"349\" y1=\"0\" x2=\"349\" y2=\"20\" style=\"stroke:#ff9900;stroke-width:3;\" /><line x1=\"350\" y1=\"0\" x2=\"350\" y2=\"20\" style=\"stroke:#ff9800;stroke-width:3;\" /><line x1=\"351\" y1=\"0\" x2=\"351\" y2=\"20\" style=\"stroke:#ff9700;stroke-width:3;\" /><line x1=\"352\" y1=\"0\" x2=\"352\" y2=\"20\" style=\"stroke:#ff9600;stroke-width:3;\" /><line x1=\"353\" y1=\"0\" x2=\"353\" y2=\"20\" style=\"stroke:#ff9500;stroke-width:3;\" /><line x1=\"354\" y1=\"0\" x2=\"354\" y2=\"20\" style=\"stroke:#ff9400;stroke-width:3;\" /><line x1=\"355\" y1=\"0\" x2=\"355\" y2=\"20\" style=\"stroke:#ff9300;stroke-width:3;\" /><line x1=\"356\" y1=\"0\" x2=\"356\" y2=\"20\" style=\"stroke:#ff9200;stroke-width:3;\" /><line x1=\"357\" y1=\"0\" x2=\"357\" y2=\"20\" style=\"stroke:#ff9100;stroke-width:3;\" /><line x1=\"358\" y1=\"0\" x2=\"358\" y2=\"20\" style=\"stroke:#ff9000;stroke-width:3;\" /><line x1=\"359\" y1=\"0\" x2=\"359\" y2=\"20\" style=\"stroke:#ff8f00;stroke-width:3;\" /><line x1=\"360\" y1=\"0\" x2=\"360\" y2=\"20\" style=\"stroke:#ff8e00;stroke-width:3;\" /><line x1=\"361\" y1=\"0\" x2=\"361\" y2=\"20\" style=\"stroke:#ff8d00;stroke-width:3;\" /><line x1=\"362\" y1=\"0\" x2=\"362\" y2=\"20\" style=\"stroke:#ff8c00;stroke-width:3;\" /><line x1=\"363\" y1=\"0\" x2=\"363\" y2=\"20\" style=\"stroke:#ff8b00;stroke-width:3;\" /><line x1=\"364\" y1=\"0\" x2=\"364\" y2=\"20\" style=\"stroke:#ff8a00;stroke-width:3;\" /><line x1=\"365\" y1=\"0\" x2=\"365\" y2=\"20\" style=\"stroke:#ff8900;stroke-width:3;\" /><line x1=\"366\" y1=\"0\" x2=\"366\" y2=\"20\" style=\"stroke:#ff8800;stroke-width:3;\" /><line x1=\"367\" y1=\"0\" x2=\"367\" y2=\"20\" style=\"stroke:#ff8700;stroke-width:3;\" /><line x1=\"368\" y1=\"0\" x2=\"368\" y2=\"20\" style=\"stroke:#ff8600;stroke-width:3;\" /><line x1=\"369\" y1=\"0\" x2=\"369\" y2=\"20\" style=\"stroke:#ff8500;stroke-width:3;\" /><line x1=\"370\" y1=\"0\" x2=\"370\" y2=\"20\" style=\"stroke:#ff8400;stroke-width:3;\" /><line x1=\"371\" y1=\"0\" x2=\"371\" y2=\"20\" style=\"stroke:#ff8300;stroke-width:3;\" /><line x1=\"372\" y1=\"0\" x2=\"372\" y2=\"20\" style=\"stroke:#ff8200;stroke-width:3;\" /><line x1=\"373\" y1=\"0\" x2=\"373\" y2=\"20\" style=\"stroke:#ff8100;stroke-width:3;\" /><line x1=\"374\" y1=\"0\" x2=\"374\" y2=\"20\" style=\"stroke:#ff8000;stroke-width:3;\" /><line x1=\"375\" y1=\"0\" x2=\"375\" y2=\"20\" style=\"stroke:#ff7f00;stroke-width:3;\" /><line x1=\"376\" y1=\"0\" x2=\"376\" y2=\"20\" style=\"stroke:#ff7e00;stroke-width:3;\" /><line x1=\"377\" y1=\"0\" x2=\"377\" y2=\"20\" style=\"stroke:#ff7d00;stroke-width:3;\" /><line x1=\"378\" y1=\"0\" x2=\"378\" y2=\"20\" style=\"stroke:#ff7c00;stroke-width:3;\" /><line x1=\"379\" y1=\"0\" x2=\"379\" y2=\"20\" style=\"stroke:#ff7b00;stroke-width:3;\" /><line x1=\"380\" y1=\"0\" x2=\"380\" y2=\"20\" style=\"stroke:#ff7a00;stroke-width:3;\" /><line x1=\"381\" y1=\"0\" x2=\"381\" y2=\"20\" style=\"stroke:#ff7900;stroke-width:3;\" /><line x1=\"382\" y1=\"0\" x2=\"382\" y2=\"20\" style=\"stroke:#ff7800;stroke-width:3;\" /><line x1=\"383\" y1=\"0\" x2=\"383\" y2=\"20\" style=\"stroke:#ff7700;stroke-width:3;\" /><line x1=\"384\" y1=\"0\" x2=\"384\" y2=\"20\" style=\"stroke:#ff7500;stroke-width:3;\" /><line x1=\"385\" y1=\"0\" x2=\"385\" y2=\"20\" style=\"stroke:#ff7400;stroke-width:3;\" /><line x1=\"386\" y1=\"0\" x2=\"386\" y2=\"20\" style=\"stroke:#ff7300;stroke-width:3;\" /><line x1=\"387\" y1=\"0\" x2=\"387\" y2=\"20\" style=\"stroke:#ff7200;stroke-width:3;\" /><line x1=\"388\" y1=\"0\" x2=\"388\" y2=\"20\" style=\"stroke:#ff7100;stroke-width:3;\" /><line x1=\"389\" y1=\"0\" x2=\"389\" y2=\"20\" style=\"stroke:#ff7000;stroke-width:3;\" /><line x1=\"390\" y1=\"0\" x2=\"390\" y2=\"20\" style=\"stroke:#ff6f00;stroke-width:3;\" /><line x1=\"391\" y1=\"0\" x2=\"391\" y2=\"20\" style=\"stroke:#ff6e00;stroke-width:3;\" /><line x1=\"392\" y1=\"0\" x2=\"392\" y2=\"20\" style=\"stroke:#ff6d00;stroke-width:3;\" /><line x1=\"393\" y1=\"0\" x2=\"393\" y2=\"20\" style=\"stroke:#ff6c00;stroke-width:3;\" /><line x1=\"394\" y1=\"0\" x2=\"394\" y2=\"20\" style=\"stroke:#ff6b00;stroke-width:3;\" /><line x1=\"395\" y1=\"0\" x2=\"395\" y2=\"20\" style=\"stroke:#ff6a00;stroke-width:3;\" /><line x1=\"396\" y1=\"0\" x2=\"396\" y2=\"20\" style=\"stroke:#ff6900;stroke-width:3;\" /><line x1=\"397\" y1=\"0\" x2=\"397\" y2=\"20\" style=\"stroke:#ff6800;stroke-width:3;\" /><line x1=\"398\" y1=\"0\" x2=\"398\" y2=\"20\" style=\"stroke:#ff6700;stroke-width:3;\" /><line x1=\"399\" y1=\"0\" x2=\"399\" y2=\"20\" style=\"stroke:#ff6600;stroke-width:3;\" /><line x1=\"400\" y1=\"0\" x2=\"400\" y2=\"20\" style=\"stroke:#ff6500;stroke-width:3;\" /><line x1=\"401\" y1=\"0\" x2=\"401\" y2=\"20\" style=\"stroke:#ff6400;stroke-width:3;\" /><line x1=\"402\" y1=\"0\" x2=\"402\" y2=\"20\" style=\"stroke:#ff6300;stroke-width:3;\" /><line x1=\"403\" y1=\"0\" x2=\"403\" y2=\"20\" style=\"stroke:#ff6200;stroke-width:3;\" /><line x1=\"404\" y1=\"0\" x2=\"404\" y2=\"20\" style=\"stroke:#ff6100;stroke-width:3;\" /><line x1=\"405\" y1=\"0\" x2=\"405\" y2=\"20\" style=\"stroke:#ff6000;stroke-width:3;\" /><line x1=\"406\" y1=\"0\" x2=\"406\" y2=\"20\" style=\"stroke:#ff5f00;stroke-width:3;\" /><line x1=\"407\" y1=\"0\" x2=\"407\" y2=\"20\" style=\"stroke:#ff5e00;stroke-width:3;\" /><line x1=\"408\" y1=\"0\" x2=\"408\" y2=\"20\" style=\"stroke:#ff5d00;stroke-width:3;\" /><line x1=\"409\" y1=\"0\" x2=\"409\" y2=\"20\" style=\"stroke:#ff5c00;stroke-width:3;\" /><line x1=\"410\" y1=\"0\" x2=\"410\" y2=\"20\" style=\"stroke:#ff5b00;stroke-width:3;\" /><line x1=\"411\" y1=\"0\" x2=\"411\" y2=\"20\" style=\"stroke:#ff5a00;stroke-width:3;\" /><line x1=\"412\" y1=\"0\" x2=\"412\" y2=\"20\" style=\"stroke:#ff5900;stroke-width:3;\" /><line x1=\"413\" y1=\"0\" x2=\"413\" y2=\"20\" style=\"stroke:#ff5800;stroke-width:3;\" /><line x1=\"414\" y1=\"0\" x2=\"414\" y2=\"20\" style=\"stroke:#ff5700;stroke-width:3;\" /><line x1=\"415\" y1=\"0\" x2=\"415\" y2=\"20\" style=\"stroke:#ff5600;stroke-width:3;\" /><line x1=\"416\" y1=\"0\" x2=\"416\" y2=\"20\" style=\"stroke:#ff5500;stroke-width:3;\" /><line x1=\"417\" y1=\"0\" x2=\"417\" y2=\"20\" style=\"stroke:#ff5400;stroke-width:3;\" /><line x1=\"418\" y1=\"0\" x2=\"418\" y2=\"20\" style=\"stroke:#ff5300;stroke-width:3;\" /><line x1=\"419\" y1=\"0\" x2=\"419\" y2=\"20\" style=\"stroke:#ff5200;stroke-width:3;\" /><line x1=\"420\" y1=\"0\" x2=\"420\" y2=\"20\" style=\"stroke:#ff5100;stroke-width:3;\" /><line x1=\"421\" y1=\"0\" x2=\"421\" y2=\"20\" style=\"stroke:#ff5000;stroke-width:3;\" /><line x1=\"422\" y1=\"0\" x2=\"422\" y2=\"20\" style=\"stroke:#ff4f00;stroke-width:3;\" /><line x1=\"423\" y1=\"0\" x2=\"423\" y2=\"20\" style=\"stroke:#ff4d00;stroke-width:3;\" /><line x1=\"424\" y1=\"0\" x2=\"424\" y2=\"20\" style=\"stroke:#ff4c00;stroke-width:3;\" /><line x1=\"425\" y1=\"0\" x2=\"425\" y2=\"20\" style=\"stroke:#ff4b00;stroke-width:3;\" /><line x1=\"426\" y1=\"0\" x2=\"426\" y2=\"20\" style=\"stroke:#ff4a00;stroke-width:3;\" /><line x1=\"427\" y1=\"0\" x2=\"427\" y2=\"20\" style=\"stroke:#ff4900;stroke-width:3;\" /><line x1=\"428\" y1=\"0\" x2=\"428\" y2=\"20\" style=\"stroke:#ff4800;stroke-width:3;\" /><line x1=\"429\" y1=\"0\" x2=\"429\" y2=\"20\" style=\"stroke:#ff4700;stroke-width:3;\" /><line x1=\"430\" y1=\"0\" x2=\"430\" y2=\"20\" style=\"stroke:#ff4600;stroke-width:3;\" /><line x1=\"431\" y1=\"0\" x2=\"431\" y2=\"20\" style=\"stroke:#ff4500;stroke-width:3;\" /><line x1=\"432\" y1=\"0\" x2=\"432\" y2=\"20\" style=\"stroke:#ff4400;stroke-width:3;\" /><line x1=\"433\" y1=\"0\" x2=\"433\" y2=\"20\" style=\"stroke:#ff4300;stroke-width:3;\" /><line x1=\"434\" y1=\"0\" x2=\"434\" y2=\"20\" style=\"stroke:#ff4200;stroke-width:3;\" /><line x1=\"435\" y1=\"0\" x2=\"435\" y2=\"20\" style=\"stroke:#ff4100;stroke-width:3;\" /><line x1=\"436\" y1=\"0\" x2=\"436\" y2=\"20\" style=\"stroke:#ff4000;stroke-width:3;\" /><line x1=\"437\" y1=\"0\" x2=\"437\" y2=\"20\" style=\"stroke:#ff3f00;stroke-width:3;\" /><line x1=\"438\" y1=\"0\" x2=\"438\" y2=\"20\" style=\"stroke:#ff3e00;stroke-width:3;\" /><line x1=\"439\" y1=\"0\" x2=\"439\" y2=\"20\" style=\"stroke:#ff3d00;stroke-width:3;\" /><line x1=\"440\" y1=\"0\" x2=\"440\" y2=\"20\" style=\"stroke:#ff3c00;stroke-width:3;\" /><line x1=\"441\" y1=\"0\" x2=\"441\" y2=\"20\" style=\"stroke:#ff3b00;stroke-width:3;\" /><line x1=\"442\" y1=\"0\" x2=\"442\" y2=\"20\" style=\"stroke:#ff3a00;stroke-width:3;\" /><line x1=\"443\" y1=\"0\" x2=\"443\" y2=\"20\" style=\"stroke:#ff3900;stroke-width:3;\" /><line x1=\"444\" y1=\"0\" x2=\"444\" y2=\"20\" style=\"stroke:#ff3800;stroke-width:3;\" /><line x1=\"445\" y1=\"0\" x2=\"445\" y2=\"20\" style=\"stroke:#ff3700;stroke-width:3;\" /><line x1=\"446\" y1=\"0\" x2=\"446\" y2=\"20\" style=\"stroke:#ff3600;stroke-width:3;\" /><line x1=\"447\" y1=\"0\" x2=\"447\" y2=\"20\" style=\"stroke:#ff3500;stroke-width:3;\" /><line x1=\"448\" y1=\"0\" x2=\"448\" y2=\"20\" style=\"stroke:#ff3400;stroke-width:3;\" /><line x1=\"449\" y1=\"0\" x2=\"449\" y2=\"20\" style=\"stroke:#ff3300;stroke-width:3;\" /><line x1=\"450\" y1=\"0\" x2=\"450\" y2=\"20\" style=\"stroke:#ff3200;stroke-width:3;\" /><line x1=\"451\" y1=\"0\" x2=\"451\" y2=\"20\" style=\"stroke:#ff3100;stroke-width:3;\" /><line x1=\"452\" y1=\"0\" x2=\"452\" y2=\"20\" style=\"stroke:#ff3000;stroke-width:3;\" /><line x1=\"453\" y1=\"0\" x2=\"453\" y2=\"20\" style=\"stroke:#ff2f00;stroke-width:3;\" /><line x1=\"454\" y1=\"0\" x2=\"454\" y2=\"20\" style=\"stroke:#ff2e00;stroke-width:3;\" /><line x1=\"455\" y1=\"0\" x2=\"455\" y2=\"20\" style=\"stroke:#ff2d00;stroke-width:3;\" /><line x1=\"456\" y1=\"0\" x2=\"456\" y2=\"20\" style=\"stroke:#ff2c00;stroke-width:3;\" /><line x1=\"457\" y1=\"0\" x2=\"457\" y2=\"20\" style=\"stroke:#ff2b00;stroke-width:3;\" /><line x1=\"458\" y1=\"0\" x2=\"458\" y2=\"20\" style=\"stroke:#ff2a00;stroke-width:3;\" /><line x1=\"459\" y1=\"0\" x2=\"459\" y2=\"20\" style=\"stroke:#ff2900;stroke-width:3;\" /><line x1=\"460\" y1=\"0\" x2=\"460\" y2=\"20\" style=\"stroke:#ff2800;stroke-width:3;\" /><line x1=\"461\" y1=\"0\" x2=\"461\" y2=\"20\" style=\"stroke:#ff2600;stroke-width:3;\" /><line x1=\"462\" y1=\"0\" x2=\"462\" y2=\"20\" style=\"stroke:#ff2500;stroke-width:3;\" /><line x1=\"463\" y1=\"0\" x2=\"463\" y2=\"20\" style=\"stroke:#ff2400;stroke-width:3;\" /><line x1=\"464\" y1=\"0\" x2=\"464\" y2=\"20\" style=\"stroke:#ff2300;stroke-width:3;\" /><line x1=\"465\" y1=\"0\" x2=\"465\" y2=\"20\" style=\"stroke:#ff2200;stroke-width:3;\" /><line x1=\"466\" y1=\"0\" x2=\"466\" y2=\"20\" style=\"stroke:#ff2100;stroke-width:3;\" /><line x1=\"467\" y1=\"0\" x2=\"467\" y2=\"20\" style=\"stroke:#ff2000;stroke-width:3;\" /><line x1=\"468\" y1=\"0\" x2=\"468\" y2=\"20\" style=\"stroke:#ff1f00;stroke-width:3;\" /><line x1=\"469\" y1=\"0\" x2=\"469\" y2=\"20\" style=\"stroke:#ff1e00;stroke-width:3;\" /><line x1=\"470\" y1=\"0\" x2=\"470\" y2=\"20\" style=\"stroke:#ff1d00;stroke-width:3;\" /><line x1=\"471\" y1=\"0\" x2=\"471\" y2=\"20\" style=\"stroke:#ff1c00;stroke-width:3;\" /><line x1=\"472\" y1=\"0\" x2=\"472\" y2=\"20\" style=\"stroke:#ff1b00;stroke-width:3;\" /><line x1=\"473\" y1=\"0\" x2=\"473\" y2=\"20\" style=\"stroke:#ff1a00;stroke-width:3;\" /><line x1=\"474\" y1=\"0\" x2=\"474\" y2=\"20\" style=\"stroke:#ff1900;stroke-width:3;\" /><line x1=\"475\" y1=\"0\" x2=\"475\" y2=\"20\" style=\"stroke:#ff1800;stroke-width:3;\" /><line x1=\"476\" y1=\"0\" x2=\"476\" y2=\"20\" style=\"stroke:#ff1700;stroke-width:3;\" /><line x1=\"477\" y1=\"0\" x2=\"477\" y2=\"20\" style=\"stroke:#ff1600;stroke-width:3;\" /><line x1=\"478\" y1=\"0\" x2=\"478\" y2=\"20\" style=\"stroke:#ff1500;stroke-width:3;\" /><line x1=\"479\" y1=\"0\" x2=\"479\" y2=\"20\" style=\"stroke:#ff1400;stroke-width:3;\" /><line x1=\"480\" y1=\"0\" x2=\"480\" y2=\"20\" style=\"stroke:#ff1300;stroke-width:3;\" /><line x1=\"481\" y1=\"0\" x2=\"481\" y2=\"20\" style=\"stroke:#ff1200;stroke-width:3;\" /><line x1=\"482\" y1=\"0\" x2=\"482\" y2=\"20\" style=\"stroke:#ff1100;stroke-width:3;\" /><line x1=\"483\" y1=\"0\" x2=\"483\" y2=\"20\" style=\"stroke:#ff1000;stroke-width:3;\" /><line x1=\"484\" y1=\"0\" x2=\"484\" y2=\"20\" style=\"stroke:#ff0f00;stroke-width:3;\" /><line x1=\"485\" y1=\"0\" x2=\"485\" y2=\"20\" style=\"stroke:#ff0e00;stroke-width:3;\" /><line x1=\"486\" y1=\"0\" x2=\"486\" y2=\"20\" style=\"stroke:#ff0d00;stroke-width:3;\" /><line x1=\"487\" y1=\"0\" x2=\"487\" y2=\"20\" style=\"stroke:#ff0c00;stroke-width:3;\" /><line x1=\"488\" y1=\"0\" x2=\"488\" y2=\"20\" style=\"stroke:#ff0b00;stroke-width:3;\" /><line x1=\"489\" y1=\"0\" x2=\"489\" y2=\"20\" style=\"stroke:#ff0a00;stroke-width:3;\" /><line x1=\"490\" y1=\"0\" x2=\"490\" y2=\"20\" style=\"stroke:#ff0900;stroke-width:3;\" /><line x1=\"491\" y1=\"0\" x2=\"491\" y2=\"20\" style=\"stroke:#ff0800;stroke-width:3;\" /><line x1=\"492\" y1=\"0\" x2=\"492\" y2=\"20\" style=\"stroke:#ff0700;stroke-width:3;\" /><line x1=\"493\" y1=\"0\" x2=\"493\" y2=\"20\" style=\"stroke:#ff0600;stroke-width:3;\" /><line x1=\"494\" y1=\"0\" x2=\"494\" y2=\"20\" style=\"stroke:#ff0500;stroke-width:3;\" /><line x1=\"495\" y1=\"0\" x2=\"495\" y2=\"20\" style=\"stroke:#ff0400;stroke-width:3;\" /><line x1=\"496\" y1=\"0\" x2=\"496\" y2=\"20\" style=\"stroke:#ff0300;stroke-width:3;\" /><line x1=\"497\" y1=\"0\" x2=\"497\" y2=\"20\" style=\"stroke:#ff0200;stroke-width:3;\" /><line x1=\"498\" y1=\"0\" x2=\"498\" y2=\"20\" style=\"stroke:#ff0100;stroke-width:3;\" /><line x1=\"499\" y1=\"0\" x2=\"499\" y2=\"20\" style=\"stroke:#ff0000;stroke-width:3;\" /><text x=\"0\" y=\"35\">6.8990003276849166</text><text x=\"500\" y=\"35\" style=\"text-anchor:end;\">9.799000465427525</text></svg>"
      ],
      "text/plain": [
       "<branca.colormap.LinearColormap at 0x7f35b5c75350>"
      ]
     },
     "execution_count": 438,
     "metadata": {},
     "output_type": "execute_result"
    }
   ],
   "source": [
    "linear_cmap = branca.colormap.LinearColormap(['green', 'yellow', 'red'],vmin=min(var), vmax=max(var))\n",
    "linear_cmap"
   ]
  },
  {
   "cell_type": "markdown",
   "metadata": {},
   "source": [
    "Let's plot the temperature values along the trajectory:"
   ]
  },
  {
   "cell_type": "code",
   "execution_count": 452,
   "metadata": {},
   "outputs": [
    {
     "data": {
      "text/html": [
       "<div style=\"width:100%;\"><div style=\"position:relative;width:100%;height:0;padding-bottom:60%;\"><iframe src=\"data:text/html;charset=utf-8;base64,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\" style=\"position:absolute;width:100%;height:100%;left:0;top:0;border:none !important;\" allowfullscreen webkitallowfullscreen mozallowfullscreen></iframe></div></div>"
      ],
      "text/plain": [
       "<folium.folium.Map at 0x7f361d07df10>"
      ]
     },
     "execution_count": 452,
     "metadata": {},
     "output_type": "execute_result"
    }
   ],
   "source": [
    "m = folium.Map(location=[mean_lat, mean_lon], zoom_start=8)\n",
    "for k in range(0,len(times)-1):\n",
    "    try:\n",
    "        color = linear_cmap(var[k])\n",
    "        folium.CircleMarker([lats[k],lons[k]], radius=1,color=color).add_to(m)\n",
    "    except Exception as e:\n",
    "        pass\n",
    "m.fit_bounds(m.get_bounds())\n",
    "colormap = branca.colormap.LinearColormap(['green', 'yellow', 'red']).scale(int(min(var)), int(max(var))).to_step(6)\n",
    "colormap.caption = 'Temperature variation along the vessel track'\n",
    "m.add_child(colormap)\n",
    "m"
   ]
  },
  {
   "cell_type": "markdown",
   "metadata": {},
   "source": [
    "<div class=\"alert alert-block alert-warning\">\n",
    "<b>WARNING</b>\n",
    "    \n",
    "***  \n",
    "If you do not see any map when running the next cell please change your navigator (try chrome!)."
   ]
  },
  {
   "cell_type": "markdown",
   "metadata": {},
   "source": [
    "### Overall variable evolution"
   ]
  },
  {
   "cell_type": "code",
   "execution_count": 441,
   "metadata": {},
   "outputs": [
    {
     "data": {
      "text/plain": [
       "[<matplotlib.lines.Line2D at 0x7f3611cdff90>]"
      ]
     },
     "execution_count": 441,
     "metadata": {},
     "output_type": "execute_result"
    },
    {
     "data": {
      "image/png": "[encoded data removed]",
      "text/plain": [
       "<Figure size 1080x360 with 1 Axes>"
      ]
     },
     "metadata": {
      "needs_background": "light"
     },
     "output_type": "display_data"
    }
   ],
   "source": [
    "ds[param].plot(aspect=3, size=5, marker='o', color='k')"
   ]
  },
  {
   "cell_type": "markdown",
   "metadata": {},
   "source": [
    "***"
   ]
  },
  {
   "cell_type": "markdown",
   "metadata": {},
   "source": [
    "## Wrap-up"
   ]
  },
  {
   "cell_type": "markdown",
   "metadata": {},
   "source": [
    "So far you should already know how to deal with trajectory-like Time Serie data from drifting buoys. <br> `If you don't please ask us! it is the moment!`"
   ]
  },
  {
   "cell_type": "markdown",
   "metadata": {},
   "source": [
    "---\n",
    "\n"
   ]
  },
  {
   "cell_type": "markdown",
   "metadata": {},
   "source": [
    "## Feedback survey"
   ]
  },
  {
   "cell_type": "markdown",
   "metadata": {},
   "source": [
    "<div class=\"alert alert-block alert-success\">\n",
    "    <b>CONGRATULATIONS</b><br>\n",
    "\n",
    "***\n",
    "**IF IT'S 202025 PAST MIDDAY, PLEASE READ CAREFULLY BELOW LINES (ACTION FROM YOUR SIDE)**\n",
    "***    \n",
    "This training course is over but we'd love to hear from you about how we could improve it (topics, tools, storytelling, format, speed etc). \n",
    "\n",
    "We have prepared a little questionnaire to gather all your inputs, available here (just click on the hyperlink or execute the very last cell and click on `Answer`):\n",
    "- https://tiny.cc/training-blk-insitu\n",
    "\n",
    "We do thank you in advance for your kind collaboration :)\n",
    "\n",
    "Greetings <3"
   ]
  },
  {
   "cell_type": "code",
   "execution_count": null,
   "metadata": {},
   "outputs": [],
   "source": [
    "IPython.display.IFrame('https://tiny.cc/tw-blk-insitu', width=900, height=500)"
   ]
  }
 ],
 "metadata": {
  "finalized": {
   "timestamp": 1572908337060,
   "trusted": true
  },
  "hide_input": false,
  "kernelspec": {
   "display_name": "Python 3",
   "language": "python",
   "name": "python3"
  },
  "language_info": {
   "codemirror_mode": {
    "name": "ipython",
    "version": 3
   },
   "file_extension": ".py",
   "mimetype": "text/x-python",
   "name": "python",
   "nbconvert_exporter": "python",
   "pygments_lexer": "ipython3",
   "version": "3.7.4"
  },
  "toc": {
   "base_numbering": 1,
   "nav_menu": {},
   "number_sections": true,
   "sideBar": true,
   "skip_h1_title": true,
   "title_cell": "Table of Contents",
   "title_sidebar": "Contents",
   "toc_cell": true,
   "toc_position": {},
   "toc_section_display": true,
   "toc_window_display": false
  },
  "varInspector": {
   "cols": {
    "lenName": 16,
    "lenType": 16,
    "lenVar": 40
   },
   "kernels_config": {
    "python": {
     "delete_cmd_postfix": "",
     "delete_cmd_prefix": "del ",
     "library": "var_list.py",
     "varRefreshCmd": "print(var_dic_list())"
    },
    "r": {
     "delete_cmd_postfix": ") ",
     "delete_cmd_prefix": "rm(",
     "library": "var_list.r",
     "varRefreshCmd": "cat(var_dic_list()) "
    }
   },
   "types_to_exclude": [
    "module",
    "function",
    "builtin_function_or_method",
    "instance",
    "_Feature"
   ],
   "window_display": false
  }
 },
 "nbformat": 4,
 "nbformat_minor": 2
}
